{
 "cells": [
  {
   "cell_type": "code",
   "execution_count": 153,
   "id": "5b16ca50-a1ca-4a08-aac1-6ecee35ad715",
   "metadata": {
    "scrolled": true
   },
   "outputs": [
    {
     "name": "stdout",
     "output_type": "stream",
     "text": [
      "[23, 100, 58, 72, 12, 100, 65, 23]\n",
      "['AAAA', 'BBBB', 'John', 'car', 'AAAA']\n",
      "[True, False, False, True, False]\n",
      "[123, 'AAA', True, 345]\n"
     ]
    }
   ],
   "source": [
    "numarray=[23,100,58,72,12,100,65,23]\n",
    "print(numarray)\n",
    "objectarray=['AAAA',\"BBBB\",\"John\",\"car\",'AAAA']\n",
    "print(objectarray)\n",
    "booleanarray=[True,False,False,True,False]\n",
    "print(booleanarray)\n",
    "mixedarray=[123,'AAA',True,345]\n",
    "print(mixedarray)"
   ]
  },
  {
   "cell_type": "code",
   "execution_count": null,
   "id": "519cdee2",
   "metadata": {},
   "outputs": [],
   "source": []
  },
  {
   "cell_type": "code",
   "execution_count": null,
   "id": "6b942b81",
   "metadata": {},
   "outputs": [],
   "source": []
  },
  {
   "cell_type": "code",
   "execution_count": 154,
   "id": "b2ae1250-01c7-485a-a24f-cfde7210457d",
   "metadata": {},
   "outputs": [
    {
     "name": "stdout",
     "output_type": "stream",
     "text": [
      "<class 'tuple'>\n",
      "(23, 100, 58, 72, 12, 100, 65, 23)\n",
      "('AAAA', 'BBBB', 'John', 'car', 'AAAA')\n"
     ]
    }
   ],
   "source": [
    "#Tupples are immutable or non editable data structure that start and end with () or parameters or roundbrackets and elements seperated by comma\n",
    "#Tupples allow duplicates and no order\n",
    "\n",
    "numtupple=(23,100,58,72,12,100,65,23)\n",
    "\n",
    "print(type(numtupple))\n",
    "print(numtupple)\n",
    "\n",
    "objecttupple=('AAAA',\"BBBB\",\"John\",\"car\",'AAAA')\n",
    "print(objecttupple)"
   ]
  },
  {
   "cell_type": "code",
   "execution_count": 155,
   "id": "dd5305f7-0cb2-45c3-9651-abbeb9dc3dc0",
   "metadata": {},
   "outputs": [
    {
     "name": "stdout",
     "output_type": "stream",
     "text": [
      "{35, 100, 53, 23, 45}\n",
      "{'AAA', 'John', 'CCCC', 'BBBB'}\n"
     ]
    }
   ],
   "source": [
    "#Sets start and end with {} or curly brackets and elements are seperated by comma.Set doent allow duplicates\n",
    "\n",
    "numset={23,45,100,53,100,23,35,45}\n",
    "print(numset)\n",
    "\n",
    "objectset={'AAA',\"BBBB\",'AAA',\"CCCC\",\"John\"}\n",
    "print(objectset)"
   ]
  },
  {
   "cell_type": "code",
   "execution_count": 156,
   "id": "efb690f5-b872-46ce-acbb-154d3fd88a03",
   "metadata": {},
   "outputs": [
    {
     "name": "stdout",
     "output_type": "stream",
     "text": [
      "{'Male': 1, 'Female': 0}\n"
     ]
    }
   ],
   "source": [
    "#Dictionaries are key value pairs that start and end with {} or curly brackets.\n",
    "#Key is the index and value stores value\n",
    "\n",
    "dict1={'Male':1,'Female':0}\n",
    "print(dict1)\n",
    "#Male is key and 1 is value"
   ]
  },
  {
   "cell_type": "code",
   "execution_count": 157,
   "id": "bc78a993-869e-4942-8718-b810dbc74f20",
   "metadata": {},
   "outputs": [
    {
     "name": "stdout",
     "output_type": "stream",
     "text": [
      "[23, 100, 58, 72, 12, 100, 65, 23]\n",
      "[23, 100, 58, 72, 12, 100, 65, 23, [14, 56, 90]]\n",
      "[23, 100, 58, 72, 12, 10000, 100, 65, 23, [14, 56, 90]]\n"
     ]
    }
   ],
   "source": [
    "#Array/List Methods\n",
    "#append() - Adds element to list at the end by default\n",
    "print(numarray)\n",
    "numarray.append([14,56,90])\n",
    "print(numarray)\n",
    "\n",
    "# insert() - Adds elements at a specified Location. Insert(Loc,value)\n",
    "numarray.insert(5,10000)\n",
    "print(numarray)"
   ]
  },
  {
   "cell_type": "code",
   "execution_count": 158,
   "id": "03827fc9-9295-4e6c-bcbb-b1f857d37aed",
   "metadata": {},
   "outputs": [
    {
     "name": "stdout",
     "output_type": "stream",
     "text": [
      "[1, 2, 3, 4, 5, 6, 7, 8, 9, 10]\n"
     ]
    }
   ],
   "source": [
    "#extend - add items at end of list or combine 2 lists\n",
    "array1=[1,2,3,4,5]\n",
    "array2=[6,7,8,9,10]\n",
    "array1.extend(array2)\n",
    "print(array1)"
   ]
  },
  {
   "cell_type": "code",
   "execution_count": 159,
   "id": "ff54785e-571e-46d2-94eb-e1180a955d9a",
   "metadata": {},
   "outputs": [
    {
     "name": "stdout",
     "output_type": "stream",
     "text": [
      "[1, 2, 3, 4, 5, 6, 7, 8, 9, 10]\n",
      "[10, 9, 8, 7, 6, 5, 4, 3, 2, 1]\n"
     ]
    }
   ],
   "source": [
    "array1.sort() # Ascending Order\n",
    "print(array1)\n",
    "array1.sort(reverse=True) # Descending Order\n",
    "print(array1)\n"
   ]
  },
  {
   "cell_type": "code",
   "execution_count": 160,
   "id": "2a48c48d-c34d-422d-ae8f-23d4931f53a9",
   "metadata": {},
   "outputs": [
    {
     "name": "stdout",
     "output_type": "stream",
     "text": [
      "10\n",
      "1\n",
      "10\n",
      "55\n",
      "5\n",
      "6\n",
      "10\n",
      "40\n"
     ]
    }
   ],
   "source": [
    "print(len(array1))\n",
    "print(min(array1))\n",
    "print(max(array1))\n",
    "print(sum(array1))\n",
    "\n",
    "print(len(array2))\n",
    "print(min(array2))\n",
    "print(max(array2))\n",
    "print(sum(array2))\n"
   ]
  },
  {
   "cell_type": "code",
   "execution_count": 161,
   "id": "258183fa-a3e9-49c9-bcfb-2887cb3b970e",
   "metadata": {},
   "outputs": [
    {
     "name": "stdout",
     "output_type": "stream",
     "text": [
      "[10, 9, 8, 7, 6, 5, 4, 3, 2, 1]\n",
      "1\n",
      "[10, 9, 8, 7, 6, 5, 4, 3, 2]\n"
     ]
    }
   ],
   "source": [
    "#Deletion methods\n",
    "print(array1)\n",
    "print(array1.pop())\n",
    "print(array1)"
   ]
  },
  {
   "cell_type": "code",
   "execution_count": 162,
   "id": "3aa4979d-1d41-4106-ba96-342215bc9c68",
   "metadata": {},
   "outputs": [
    {
     "name": "stdout",
     "output_type": "stream",
     "text": [
      "[10, 9, 8, 7, 6, 5, 4, 3, 2]\n",
      "5\n",
      "[10, 9, 8, 7, 6, 4, 3, 2]\n"
     ]
    }
   ],
   "source": [
    "#Deletion methods\n",
    "print(array1)\n",
    "print(array1.pop(5))\n",
    "print(array1)"
   ]
  },
  {
   "cell_type": "code",
   "execution_count": 163,
   "id": "d1e63bef-aa3e-42e2-970b-7e4cb1b4d0a9",
   "metadata": {},
   "outputs": [],
   "source": [
    "# In Python for data sciences - Libraries must be used \n",
    "# Libraries contains The pre defined function that can be implimented with out any code or syntax.\n",
    "# The Predefined function syntax is \n",
    "# Libraryname.functionname()\n",
    "# every function must have paranthesis or (). Either null or arguments given in paranthesis\n"
   ]
  },
  {
   "cell_type": "code",
   "execution_count": 164,
   "id": "63db24da-ed10-4ea2-992e-2c4e01cf8db5",
   "metadata": {},
   "outputs": [],
   "source": [
    "# Core libraries of python\n",
    "# 1) Pandas - library for Dataframe baased operations. DataFrame or \n",
    "# Datatable is by default columns are variables and rows are observations\n",
    "# All functions required for importing/exporting data,reshaping,resampling\n",
    "#concating,indexing,etc are there .\n",
    "\n"
   ]
  },
  {
   "cell_type": "code",
   "execution_count": 165,
   "id": "70631950-80b9-4acb-baef-fae1ee972ccd",
   "metadata": {},
   "outputs": [],
   "source": [
    "# 2) MatplotLib.pyplot - DAta Vizualization Library for plotting/creating graphs.\n",
    "#particularly used to change plot window size,axix lables,axis Limits,Title,Legend,etc.\n"
   ]
  },
  {
   "cell_type": "code",
   "execution_count": 166,
   "id": "f52598f7-0d42-4917-9427-22912eb7325d",
   "metadata": {},
   "outputs": [],
   "source": [
    "# 3) Numpy - Core Library of python that deals with arrays/lists based operation.\n",
    "# Arrays/Lists fundametal data structure of python Numpy has all the computational functions\n",
    "# mathematical,statistical in library and computations are done using them\n",
    "# Sub-Libraries in Numpy\n",
    "# a)scipy.stats - Statistics\n",
    "# b) statsmodel - TimeSeries/IOT Data\n",
    "# c) Scikit Learn(sklearn) - Machine Learning Library (All functions)\n",
    "\n",
    "#other Libraries are\n",
    "# nltk,spacy, - Natural Language Processing (Text Data)\n",
    "# tensorFlow,keras- Deep Learnng and Image Processing Image Data)\n",
    "# opencv - computer Vision"
   ]
  },
  {
   "cell_type": "code",
   "execution_count": 167,
   "id": "1db8fa10-2f92-468a-8d2b-c7708ef7f863",
   "metadata": {},
   "outputs": [],
   "source": [
    "import pandas as pd\n",
    "import numpy as np\n",
    "import matplotlib.pyplot as plt\n",
    "%matplotlib inline\n"
   ]
  },
  {
   "cell_type": "code",
   "execution_count": 168,
   "id": "d3665282-bb6b-4781-9c0c-85f992afd8f1",
   "metadata": {},
   "outputs": [
    {
     "name": "stdout",
     "output_type": "stream",
     "text": [
      "C:\\Users\\pc\\OneDrive\\Desktop\\Python Working_Directory\n"
     ]
    }
   ],
   "source": [
    "#set up working directory\n",
    "import io\n",
    "%cd \"C:\\Users\\pc\\OneDrive\\Desktop\\Python Working_Directory\""
   ]
  },
  {
   "cell_type": "code",
   "execution_count": 169,
   "id": "4233cf0e-552a-44f6-b9bf-503fb45f320b",
   "metadata": {},
   "outputs": [],
   "source": [
    "\n",
    "nybnb=pd.read_csv(\"NYlistings.csv\")\n",
    "# pd refers to pands Library\n",
    "# read_csv() - predefined function for imorting csv files\n",
    "# Every Function must have paranthesis or ()"
   ]
  },
  {
   "cell_type": "code",
   "execution_count": 170,
   "id": "b5f6f80d",
   "metadata": {
    "scrolled": true
   },
   "outputs": [
    {
     "name": "stdout",
     "output_type": "stream",
     "text": [
      "<class 'pandas.core.frame.DataFrame'>\n",
      "RangeIndex: 38377 entries, 0 to 38376\n",
      "Data columns (total 18 columns):\n",
      " #   Column                          Non-Null Count  Dtype  \n",
      "---  ------                          --------------  -----  \n",
      " 0   id                              38377 non-null  int64  \n",
      " 1   name                            38375 non-null  object \n",
      " 2   host_id                         38377 non-null  int64  \n",
      " 3   host_name                       38372 non-null  object \n",
      " 4   neighbourhood_group             38377 non-null  object \n",
      " 5   neighbourhood                   38377 non-null  object \n",
      " 6   latitude                        38377 non-null  float64\n",
      " 7   longitude                       38377 non-null  float64\n",
      " 8   room_type                       38377 non-null  object \n",
      " 9   price                           23761 non-null  float64\n",
      " 10  minimum_nights                  38377 non-null  int64  \n",
      " 11  number_of_reviews               38377 non-null  int64  \n",
      " 12  last_review                     26766 non-null  object \n",
      " 13  reviews_per_month               26766 non-null  float64\n",
      " 14  calculated_host_listings_count  38377 non-null  int64  \n",
      " 15  availability_365                38377 non-null  int64  \n",
      " 16  number_of_reviews_ltm           38377 non-null  int64  \n",
      " 17  license                         5063 non-null   object \n",
      "dtypes: float64(4), int64(7), object(7)\n",
      "memory usage: 5.3+ MB\n"
     ]
    }
   ],
   "source": [
    "nybnb.info()\n",
    "# Data Structure - DataFrame/Data Table\n",
    "# Num of Rows (Observations) - 38377 & Num of Columns (Variables) - 18\n",
    "# Individuals Variables Date Types - numeric (int64 & float64), objects\n",
    "# datetime\n",
    "\n",
    "# If any variables has Non Null Count Less than 38377, that variable\n",
    "# has missing values or NA's or NaN\n"
   ]
  },
  {
   "cell_type": "code",
   "execution_count": 171,
   "id": "4f05a1f2",
   "metadata": {},
   "outputs": [
    {
     "data": {
      "text/html": [
       "<div>\n",
       "<style scoped>\n",
       "    .dataframe tbody tr th:only-of-type {\n",
       "        vertical-align: middle;\n",
       "    }\n",
       "\n",
       "    .dataframe tbody tr th {\n",
       "        vertical-align: top;\n",
       "    }\n",
       "\n",
       "    .dataframe thead th {\n",
       "        text-align: right;\n",
       "    }\n",
       "</style>\n",
       "<table border=\"1\" class=\"dataframe\">\n",
       "  <thead>\n",
       "    <tr style=\"text-align: right;\">\n",
       "      <th></th>\n",
       "      <th>id</th>\n",
       "      <th>name</th>\n",
       "      <th>host_id</th>\n",
       "      <th>host_name</th>\n",
       "      <th>neighbourhood_group</th>\n",
       "      <th>neighbourhood</th>\n",
       "      <th>latitude</th>\n",
       "      <th>longitude</th>\n",
       "      <th>room_type</th>\n",
       "      <th>price</th>\n",
       "      <th>minimum_nights</th>\n",
       "      <th>number_of_reviews</th>\n",
       "      <th>last_review</th>\n",
       "      <th>reviews_per_month</th>\n",
       "      <th>calculated_host_listings_count</th>\n",
       "      <th>availability_365</th>\n",
       "      <th>number_of_reviews_ltm</th>\n",
       "      <th>license</th>\n",
       "    </tr>\n",
       "  </thead>\n",
       "  <tbody>\n",
       "    <tr>\n",
       "      <th>0</th>\n",
       "      <td>5121</td>\n",
       "      <td>BlissArtsSpace!</td>\n",
       "      <td>7356</td>\n",
       "      <td>Garon</td>\n",
       "      <td>Brooklyn</td>\n",
       "      <td>Bedford-Stuyvesant</td>\n",
       "      <td>40.68535</td>\n",
       "      <td>-73.95512</td>\n",
       "      <td>Private room</td>\n",
       "      <td>72.0</td>\n",
       "      <td>30</td>\n",
       "      <td>50</td>\n",
       "      <td>2019-12-02</td>\n",
       "      <td>0.28</td>\n",
       "      <td>2</td>\n",
       "      <td>233</td>\n",
       "      <td>0</td>\n",
       "      <td>NaN</td>\n",
       "    </tr>\n",
       "    <tr>\n",
       "      <th>1</th>\n",
       "      <td>5136</td>\n",
       "      <td>Quiet Family Friendly Duplex w/ Patio + Backyard</td>\n",
       "      <td>7378</td>\n",
       "      <td>Rebecca</td>\n",
       "      <td>Brooklyn</td>\n",
       "      <td>Sunset Park</td>\n",
       "      <td>40.66265</td>\n",
       "      <td>-73.99454</td>\n",
       "      <td>Entire home/apt</td>\n",
       "      <td>253.0</td>\n",
       "      <td>30</td>\n",
       "      <td>4</td>\n",
       "      <td>2023-08-20</td>\n",
       "      <td>0.03</td>\n",
       "      <td>1</td>\n",
       "      <td>47</td>\n",
       "      <td>1</td>\n",
       "      <td>NaN</td>\n",
       "    </tr>\n",
       "    <tr>\n",
       "      <th>2</th>\n",
       "      <td>6848</td>\n",
       "      <td>Only 2 stops to Manhattan studio</td>\n",
       "      <td>15991</td>\n",
       "      <td>Allen &amp; Irina</td>\n",
       "      <td>Brooklyn</td>\n",
       "      <td>Williamsburg</td>\n",
       "      <td>40.70935</td>\n",
       "      <td>-73.95342</td>\n",
       "      <td>Entire home/apt</td>\n",
       "      <td>81.0</td>\n",
       "      <td>30</td>\n",
       "      <td>192</td>\n",
       "      <td>2024-01-08</td>\n",
       "      <td>1.06</td>\n",
       "      <td>1</td>\n",
       "      <td>164</td>\n",
       "      <td>3</td>\n",
       "      <td>NaN</td>\n",
       "    </tr>\n",
       "    <tr>\n",
       "      <th>3</th>\n",
       "      <td>6872</td>\n",
       "      <td>Uptown Sanctuary w/ Private Bath (Month to Month)</td>\n",
       "      <td>16104</td>\n",
       "      <td>Kae</td>\n",
       "      <td>Manhattan</td>\n",
       "      <td>East Harlem</td>\n",
       "      <td>40.80107</td>\n",
       "      <td>-73.94255</td>\n",
       "      <td>Private room</td>\n",
       "      <td>65.0</td>\n",
       "      <td>30</td>\n",
       "      <td>1</td>\n",
       "      <td>2022-06-05</td>\n",
       "      <td>0.04</td>\n",
       "      <td>2</td>\n",
       "      <td>365</td>\n",
       "      <td>0</td>\n",
       "      <td>NaN</td>\n",
       "    </tr>\n",
       "    <tr>\n",
       "      <th>4</th>\n",
       "      <td>6990</td>\n",
       "      <td>UES Beautiful Blue Room</td>\n",
       "      <td>16800</td>\n",
       "      <td>Cyn</td>\n",
       "      <td>Manhattan</td>\n",
       "      <td>East Harlem</td>\n",
       "      <td>40.78778</td>\n",
       "      <td>-73.94759</td>\n",
       "      <td>Private room</td>\n",
       "      <td>60.0</td>\n",
       "      <td>30</td>\n",
       "      <td>247</td>\n",
       "      <td>2024-03-06</td>\n",
       "      <td>1.40</td>\n",
       "      <td>1</td>\n",
       "      <td>179</td>\n",
       "      <td>3</td>\n",
       "      <td>NaN</td>\n",
       "    </tr>\n",
       "  </tbody>\n",
       "</table>\n",
       "</div>"
      ],
      "text/plain": [
       "     id                                               name  host_id  \\\n",
       "0  5121                                    BlissArtsSpace!     7356   \n",
       "1  5136   Quiet Family Friendly Duplex w/ Patio + Backyard     7378   \n",
       "2  6848                   Only 2 stops to Manhattan studio    15991   \n",
       "3  6872  Uptown Sanctuary w/ Private Bath (Month to Month)    16104   \n",
       "4  6990                            UES Beautiful Blue Room    16800   \n",
       "\n",
       "       host_name neighbourhood_group       neighbourhood  latitude  longitude  \\\n",
       "0          Garon            Brooklyn  Bedford-Stuyvesant  40.68535  -73.95512   \n",
       "1        Rebecca            Brooklyn         Sunset Park  40.66265  -73.99454   \n",
       "2  Allen & Irina            Brooklyn        Williamsburg  40.70935  -73.95342   \n",
       "3            Kae           Manhattan         East Harlem  40.80107  -73.94255   \n",
       "4            Cyn           Manhattan         East Harlem  40.78778  -73.94759   \n",
       "\n",
       "         room_type  price  minimum_nights  number_of_reviews last_review  \\\n",
       "0     Private room   72.0              30                 50  2019-12-02   \n",
       "1  Entire home/apt  253.0              30                  4  2023-08-20   \n",
       "2  Entire home/apt   81.0              30                192  2024-01-08   \n",
       "3     Private room   65.0              30                  1  2022-06-05   \n",
       "4     Private room   60.0              30                247  2024-03-06   \n",
       "\n",
       "   reviews_per_month  calculated_host_listings_count  availability_365  \\\n",
       "0               0.28                               2               233   \n",
       "1               0.03                               1                47   \n",
       "2               1.06                               1               164   \n",
       "3               0.04                               2               365   \n",
       "4               1.40                               1               179   \n",
       "\n",
       "   number_of_reviews_ltm license  \n",
       "0                      0     NaN  \n",
       "1                      1     NaN  \n",
       "2                      3     NaN  \n",
       "3                      0     NaN  \n",
       "4                      3     NaN  "
      ]
     },
     "execution_count": 171,
     "metadata": {},
     "output_type": "execute_result"
    }
   ],
   "source": [
    "nybnb.head() # First 5 rows of Data by default.\n",
    "\n",
    "#Specify integer in () for more rows."
   ]
  },
  {
   "cell_type": "code",
   "execution_count": 172,
   "id": "01ece7aa",
   "metadata": {},
   "outputs": [
    {
     "data": {
      "text/html": [
       "<div>\n",
       "<style scoped>\n",
       "    .dataframe tbody tr th:only-of-type {\n",
       "        vertical-align: middle;\n",
       "    }\n",
       "\n",
       "    .dataframe tbody tr th {\n",
       "        vertical-align: top;\n",
       "    }\n",
       "\n",
       "    .dataframe thead th {\n",
       "        text-align: right;\n",
       "    }\n",
       "</style>\n",
       "<table border=\"1\" class=\"dataframe\">\n",
       "  <thead>\n",
       "    <tr style=\"text-align: right;\">\n",
       "      <th></th>\n",
       "      <th>id</th>\n",
       "      <th>name</th>\n",
       "      <th>host_id</th>\n",
       "      <th>host_name</th>\n",
       "      <th>neighbourhood_group</th>\n",
       "      <th>neighbourhood</th>\n",
       "      <th>latitude</th>\n",
       "      <th>longitude</th>\n",
       "      <th>room_type</th>\n",
       "      <th>price</th>\n",
       "      <th>minimum_nights</th>\n",
       "      <th>number_of_reviews</th>\n",
       "      <th>last_review</th>\n",
       "      <th>reviews_per_month</th>\n",
       "      <th>calculated_host_listings_count</th>\n",
       "      <th>availability_365</th>\n",
       "      <th>number_of_reviews_ltm</th>\n",
       "      <th>license</th>\n",
       "    </tr>\n",
       "  </thead>\n",
       "  <tbody>\n",
       "    <tr>\n",
       "      <th>38372</th>\n",
       "      <td>1128228171018565147</td>\n",
       "      <td>Warren St Hotel II by Rove | 1BR Tribeca Apt</td>\n",
       "      <td>17775359</td>\n",
       "      <td>Rove</td>\n",
       "      <td>Manhattan</td>\n",
       "      <td>Tribeca</td>\n",
       "      <td>40.714450</td>\n",
       "      <td>-74.009520</td>\n",
       "      <td>Entire home/apt</td>\n",
       "      <td>721.0</td>\n",
       "      <td>30</td>\n",
       "      <td>0</td>\n",
       "      <td>NaN</td>\n",
       "      <td>NaN</td>\n",
       "      <td>73</td>\n",
       "      <td>365</td>\n",
       "      <td>0</td>\n",
       "      <td>NaN</td>\n",
       "    </tr>\n",
       "    <tr>\n",
       "      <th>38373</th>\n",
       "      <td>1128228196145466818</td>\n",
       "      <td>Warren St Hotel III by Rove | 1BR Tribeca Apt</td>\n",
       "      <td>17775359</td>\n",
       "      <td>Rove</td>\n",
       "      <td>Manhattan</td>\n",
       "      <td>Tribeca</td>\n",
       "      <td>40.716471</td>\n",
       "      <td>-74.009401</td>\n",
       "      <td>Entire home/apt</td>\n",
       "      <td>721.0</td>\n",
       "      <td>30</td>\n",
       "      <td>0</td>\n",
       "      <td>NaN</td>\n",
       "      <td>NaN</td>\n",
       "      <td>73</td>\n",
       "      <td>365</td>\n",
       "      <td>0</td>\n",
       "      <td>NaN</td>\n",
       "    </tr>\n",
       "    <tr>\n",
       "      <th>38374</th>\n",
       "      <td>1128228264943731027</td>\n",
       "      <td>Warren St Hotel IV by Rove | 2BR Tribeca Apt</td>\n",
       "      <td>17775359</td>\n",
       "      <td>Rove</td>\n",
       "      <td>Manhattan</td>\n",
       "      <td>Tribeca</td>\n",
       "      <td>40.716173</td>\n",
       "      <td>-74.011490</td>\n",
       "      <td>Entire home/apt</td>\n",
       "      <td>1080.0</td>\n",
       "      <td>30</td>\n",
       "      <td>0</td>\n",
       "      <td>NaN</td>\n",
       "      <td>NaN</td>\n",
       "      <td>73</td>\n",
       "      <td>365</td>\n",
       "      <td>0</td>\n",
       "      <td>NaN</td>\n",
       "    </tr>\n",
       "    <tr>\n",
       "      <th>38375</th>\n",
       "      <td>1128279322981174125</td>\n",
       "      <td>Walk to Central Park</td>\n",
       "      <td>570464263</td>\n",
       "      <td>Baris</td>\n",
       "      <td>Manhattan</td>\n",
       "      <td>Upper East Side</td>\n",
       "      <td>40.781020</td>\n",
       "      <td>-73.949350</td>\n",
       "      <td>Private room</td>\n",
       "      <td>198.0</td>\n",
       "      <td>30</td>\n",
       "      <td>0</td>\n",
       "      <td>NaN</td>\n",
       "      <td>NaN</td>\n",
       "      <td>2</td>\n",
       "      <td>269</td>\n",
       "      <td>0</td>\n",
       "      <td>NaN</td>\n",
       "    </tr>\n",
       "    <tr>\n",
       "      <th>38376</th>\n",
       "      <td>1128312489316996446</td>\n",
       "      <td>Large Room, HDTV Backyard 23 min to Manhattan ...</td>\n",
       "      <td>3223938</td>\n",
       "      <td>Eugene</td>\n",
       "      <td>Brooklyn</td>\n",
       "      <td>Bushwick</td>\n",
       "      <td>40.690064</td>\n",
       "      <td>-73.913873</td>\n",
       "      <td>Private room</td>\n",
       "      <td>41.0</td>\n",
       "      <td>30</td>\n",
       "      <td>0</td>\n",
       "      <td>NaN</td>\n",
       "      <td>NaN</td>\n",
       "      <td>649</td>\n",
       "      <td>269</td>\n",
       "      <td>0</td>\n",
       "      <td>NaN</td>\n",
       "    </tr>\n",
       "  </tbody>\n",
       "</table>\n",
       "</div>"
      ],
      "text/plain": [
       "                        id                                               name  \\\n",
       "38372  1128228171018565147       Warren St Hotel II by Rove | 1BR Tribeca Apt   \n",
       "38373  1128228196145466818      Warren St Hotel III by Rove | 1BR Tribeca Apt   \n",
       "38374  1128228264943731027       Warren St Hotel IV by Rove | 2BR Tribeca Apt   \n",
       "38375  1128279322981174125                               Walk to Central Park   \n",
       "38376  1128312489316996446  Large Room, HDTV Backyard 23 min to Manhattan ...   \n",
       "\n",
       "         host_id host_name neighbourhood_group    neighbourhood   latitude  \\\n",
       "38372   17775359      Rove           Manhattan          Tribeca  40.714450   \n",
       "38373   17775359      Rove           Manhattan          Tribeca  40.716471   \n",
       "38374   17775359      Rove           Manhattan          Tribeca  40.716173   \n",
       "38375  570464263     Baris           Manhattan  Upper East Side  40.781020   \n",
       "38376    3223938    Eugene            Brooklyn         Bushwick  40.690064   \n",
       "\n",
       "       longitude        room_type   price  minimum_nights  number_of_reviews  \\\n",
       "38372 -74.009520  Entire home/apt   721.0              30                  0   \n",
       "38373 -74.009401  Entire home/apt   721.0              30                  0   \n",
       "38374 -74.011490  Entire home/apt  1080.0              30                  0   \n",
       "38375 -73.949350     Private room   198.0              30                  0   \n",
       "38376 -73.913873     Private room    41.0              30                  0   \n",
       "\n",
       "      last_review  reviews_per_month  calculated_host_listings_count  \\\n",
       "38372         NaN                NaN                              73   \n",
       "38373         NaN                NaN                              73   \n",
       "38374         NaN                NaN                              73   \n",
       "38375         NaN                NaN                               2   \n",
       "38376         NaN                NaN                             649   \n",
       "\n",
       "       availability_365  number_of_reviews_ltm license  \n",
       "38372               365                      0     NaN  \n",
       "38373               365                      0     NaN  \n",
       "38374               365                      0     NaN  \n",
       "38375               269                      0     NaN  \n",
       "38376               269                      0     NaN  "
      ]
     },
     "execution_count": 172,
     "metadata": {},
     "output_type": "execute_result"
    }
   ],
   "source": [
    "nybnb.tail() # last 5 rows of Data by default.\n",
    "\n",
    "#Specify integer in () for more rows."
   ]
  },
  {
   "cell_type": "code",
   "execution_count": 173,
   "id": "a9a4b23f",
   "metadata": {
    "scrolled": true
   },
   "outputs": [
    {
     "data": {
      "text/plain": [
       "Index(['id', 'name', 'host_id', 'host_name', 'neighbourhood_group',\n",
       "       'neighbourhood', 'latitude', 'longitude', 'room_type', 'price',\n",
       "       'minimum_nights', 'number_of_reviews', 'last_review',\n",
       "       'reviews_per_month', 'calculated_host_listings_count',\n",
       "       'availability_365', 'number_of_reviews_ltm', 'license'],\n",
       "      dtype='object')"
      ]
     },
     "execution_count": 173,
     "metadata": {},
     "output_type": "execute_result"
    }
   ],
   "source": [
    "nybnb.columns # Exceptions no Paranthesis. Variable names\n"
   ]
  },
  {
   "cell_type": "code",
   "execution_count": 174,
   "id": "7834e722",
   "metadata": {},
   "outputs": [],
   "source": [
    "# Indexing - Accessing Specific Column or rows of a dataframe\n",
    "# 2 Types of Indexing - 1) Character Indexing 2) Numeric Indexing\n",
    "\n",
    "#Character Indexing - Indexing by Column Name. column Name must\n",
    "# exactly match. Example dfname[\"colname\"] or dfname.colname\n",
    "\n",
    "#Numeric Indexing -Indexing by Column Name.  Python starts from zero ,\n",
    "#when counting column number start from zero.\n",
    "#for example dfname.iloc[:,4] , to access fifth column\n"
   ]
  },
  {
   "cell_type": "code",
   "execution_count": 175,
   "id": "75e5bb3d",
   "metadata": {},
   "outputs": [
    {
     "data": {
      "text/plain": [
       "0     72.0\n",
       "1    253.0\n",
       "2     81.0\n",
       "3     65.0\n",
       "4     60.0\n",
       "Name: price, dtype: float64"
      ]
     },
     "execution_count": 175,
     "metadata": {},
     "output_type": "execute_result"
    }
   ],
   "source": [
    "# Character Indexing - single column\n",
    "\n",
    "nybnb['price'].head() "
   ]
  },
  {
   "cell_type": "code",
   "execution_count": 176,
   "id": "2f8f76b7",
   "metadata": {},
   "outputs": [
    {
     "data": {
      "text/plain": [
       "0     72.0\n",
       "1    253.0\n",
       "2     81.0\n",
       "3     65.0\n",
       "4     60.0\n",
       "Name: price, dtype: float64"
      ]
     },
     "execution_count": 176,
     "metadata": {},
     "output_type": "execute_result"
    }
   ],
   "source": [
    "nybnb.price.head() # works only when there is no space in colname"
   ]
  },
  {
   "cell_type": "code",
   "execution_count": 177,
   "id": "5f2aa65f",
   "metadata": {},
   "outputs": [
    {
     "data": {
      "text/html": [
       "<div>\n",
       "<style scoped>\n",
       "    .dataframe tbody tr th:only-of-type {\n",
       "        vertical-align: middle;\n",
       "    }\n",
       "\n",
       "    .dataframe tbody tr th {\n",
       "        vertical-align: top;\n",
       "    }\n",
       "\n",
       "    .dataframe thead th {\n",
       "        text-align: right;\n",
       "    }\n",
       "</style>\n",
       "<table border=\"1\" class=\"dataframe\">\n",
       "  <thead>\n",
       "    <tr style=\"text-align: right;\">\n",
       "      <th></th>\n",
       "      <th>room_type</th>\n",
       "      <th>price</th>\n",
       "      <th>minimum_nights</th>\n",
       "      <th>number_of_reviews</th>\n",
       "    </tr>\n",
       "  </thead>\n",
       "  <tbody>\n",
       "    <tr>\n",
       "      <th>0</th>\n",
       "      <td>Private room</td>\n",
       "      <td>72.0</td>\n",
       "      <td>30</td>\n",
       "      <td>50</td>\n",
       "    </tr>\n",
       "    <tr>\n",
       "      <th>1</th>\n",
       "      <td>Entire home/apt</td>\n",
       "      <td>253.0</td>\n",
       "      <td>30</td>\n",
       "      <td>4</td>\n",
       "    </tr>\n",
       "    <tr>\n",
       "      <th>2</th>\n",
       "      <td>Entire home/apt</td>\n",
       "      <td>81.0</td>\n",
       "      <td>30</td>\n",
       "      <td>192</td>\n",
       "    </tr>\n",
       "    <tr>\n",
       "      <th>3</th>\n",
       "      <td>Private room</td>\n",
       "      <td>65.0</td>\n",
       "      <td>30</td>\n",
       "      <td>1</td>\n",
       "    </tr>\n",
       "    <tr>\n",
       "      <th>4</th>\n",
       "      <td>Private room</td>\n",
       "      <td>60.0</td>\n",
       "      <td>30</td>\n",
       "      <td>247</td>\n",
       "    </tr>\n",
       "  </tbody>\n",
       "</table>\n",
       "</div>"
      ],
      "text/plain": [
       "         room_type  price  minimum_nights  number_of_reviews\n",
       "0     Private room   72.0              30                 50\n",
       "1  Entire home/apt  253.0              30                  4\n",
       "2  Entire home/apt   81.0              30                192\n",
       "3     Private room   65.0              30                  1\n",
       "4     Private room   60.0              30                247"
      ]
     },
     "execution_count": 177,
     "metadata": {},
     "output_type": "execute_result"
    }
   ],
   "source": [
    "# Character Indexing -Multiple columns.dfname[[col1,col2,col3]]\n",
    "\n",
    "nybnb[['room_type', 'price',\n",
    "       'minimum_nights', 'number_of_reviews']].head()"
   ]
  },
  {
   "cell_type": "code",
   "execution_count": 178,
   "id": "15cf501a",
   "metadata": {},
   "outputs": [
    {
     "data": {
      "text/plain": [
       "0     72.0\n",
       "1    253.0\n",
       "2     81.0\n",
       "3     65.0\n",
       "4     60.0\n",
       "Name: price, dtype: float64"
      ]
     },
     "execution_count": 178,
     "metadata": {},
     "output_type": "execute_result"
    }
   ],
   "source": [
    "# Numeric Indexing - Single Column\n",
    "nybnb.iloc[:,9].head()  # Here :, before indicates column selection"
   ]
  },
  {
   "cell_type": "code",
   "execution_count": 179,
   "id": "cf5c023c",
   "metadata": {},
   "outputs": [
    {
     "data": {
      "text/html": [
       "<div>\n",
       "<style scoped>\n",
       "    .dataframe tbody tr th:only-of-type {\n",
       "        vertical-align: middle;\n",
       "    }\n",
       "\n",
       "    .dataframe tbody tr th {\n",
       "        vertical-align: top;\n",
       "    }\n",
       "\n",
       "    .dataframe thead th {\n",
       "        text-align: right;\n",
       "    }\n",
       "</style>\n",
       "<table border=\"1\" class=\"dataframe\">\n",
       "  <thead>\n",
       "    <tr style=\"text-align: right;\">\n",
       "      <th></th>\n",
       "      <th>room_type</th>\n",
       "      <th>price</th>\n",
       "      <th>minimum_nights</th>\n",
       "      <th>number_of_reviews</th>\n",
       "      <th>last_review</th>\n",
       "    </tr>\n",
       "  </thead>\n",
       "  <tbody>\n",
       "    <tr>\n",
       "      <th>0</th>\n",
       "      <td>Private room</td>\n",
       "      <td>72.0</td>\n",
       "      <td>30</td>\n",
       "      <td>50</td>\n",
       "      <td>2019-12-02</td>\n",
       "    </tr>\n",
       "    <tr>\n",
       "      <th>1</th>\n",
       "      <td>Entire home/apt</td>\n",
       "      <td>253.0</td>\n",
       "      <td>30</td>\n",
       "      <td>4</td>\n",
       "      <td>2023-08-20</td>\n",
       "    </tr>\n",
       "    <tr>\n",
       "      <th>2</th>\n",
       "      <td>Entire home/apt</td>\n",
       "      <td>81.0</td>\n",
       "      <td>30</td>\n",
       "      <td>192</td>\n",
       "      <td>2024-01-08</td>\n",
       "    </tr>\n",
       "    <tr>\n",
       "      <th>3</th>\n",
       "      <td>Private room</td>\n",
       "      <td>65.0</td>\n",
       "      <td>30</td>\n",
       "      <td>1</td>\n",
       "      <td>2022-06-05</td>\n",
       "    </tr>\n",
       "    <tr>\n",
       "      <th>4</th>\n",
       "      <td>Private room</td>\n",
       "      <td>60.0</td>\n",
       "      <td>30</td>\n",
       "      <td>247</td>\n",
       "      <td>2024-03-06</td>\n",
       "    </tr>\n",
       "  </tbody>\n",
       "</table>\n",
       "</div>"
      ],
      "text/plain": [
       "         room_type  price  minimum_nights  number_of_reviews last_review\n",
       "0     Private room   72.0              30                 50  2019-12-02\n",
       "1  Entire home/apt  253.0              30                  4  2023-08-20\n",
       "2  Entire home/apt   81.0              30                192  2024-01-08\n",
       "3     Private room   65.0              30                  1  2022-06-05\n",
       "4     Private room   60.0              30                247  2024-03-06"
      ]
     },
     "execution_count": 179,
     "metadata": {},
     "output_type": "execute_result"
    }
   ],
   "source": [
    "# Numeric Indexing - Multiple Column\n",
    "nybnb.iloc[:,[8,9,10,11,12]].head() \n",
    "\n",
    "# In Python multiple arguments must be given in a list or []\n"
   ]
  },
  {
   "cell_type": "code",
   "execution_count": 180,
   "id": "61e73dcc",
   "metadata": {},
   "outputs": [
    {
     "data": {
      "text/html": [
       "<div>\n",
       "<style scoped>\n",
       "    .dataframe tbody tr th:only-of-type {\n",
       "        vertical-align: middle;\n",
       "    }\n",
       "\n",
       "    .dataframe tbody tr th {\n",
       "        vertical-align: top;\n",
       "    }\n",
       "\n",
       "    .dataframe thead th {\n",
       "        text-align: right;\n",
       "    }\n",
       "</style>\n",
       "<table border=\"1\" class=\"dataframe\">\n",
       "  <thead>\n",
       "    <tr style=\"text-align: right;\">\n",
       "      <th></th>\n",
       "      <th>id</th>\n",
       "      <th>name</th>\n",
       "      <th>host_id</th>\n",
       "      <th>host_name</th>\n",
       "      <th>neighbourhood_group</th>\n",
       "      <th>neighbourhood</th>\n",
       "      <th>latitude</th>\n",
       "      <th>longitude</th>\n",
       "      <th>room_type</th>\n",
       "      <th>price</th>\n",
       "      <th>minimum_nights</th>\n",
       "      <th>number_of_reviews</th>\n",
       "      <th>last_review</th>\n",
       "      <th>reviews_per_month</th>\n",
       "      <th>calculated_host_listings_count</th>\n",
       "      <th>availability_365</th>\n",
       "      <th>number_of_reviews_ltm</th>\n",
       "      <th>license</th>\n",
       "    </tr>\n",
       "  </thead>\n",
       "  <tbody>\n",
       "    <tr>\n",
       "      <th>8</th>\n",
       "      <td>8490</td>\n",
       "      <td>Maison des Sirenes1,bohemian, luminous apartment</td>\n",
       "      <td>25183</td>\n",
       "      <td>Nathalie</td>\n",
       "      <td>Brooklyn</td>\n",
       "      <td>Bedford-Stuyvesant</td>\n",
       "      <td>40.684556</td>\n",
       "      <td>-73.939634</td>\n",
       "      <td>Entire home/apt</td>\n",
       "      <td>170.0</td>\n",
       "      <td>30</td>\n",
       "      <td>190</td>\n",
       "      <td>2023-10-16</td>\n",
       "      <td>1.07</td>\n",
       "      <td>2</td>\n",
       "      <td>338</td>\n",
       "      <td>16</td>\n",
       "      <td>NaN</td>\n",
       "    </tr>\n",
       "    <tr>\n",
       "      <th>9</th>\n",
       "      <td>9357</td>\n",
       "      <td>Midtown Pied-a-terre</td>\n",
       "      <td>30193</td>\n",
       "      <td>Tommi</td>\n",
       "      <td>Manhattan</td>\n",
       "      <td>Hell's Kitchen</td>\n",
       "      <td>40.767240</td>\n",
       "      <td>-73.986640</td>\n",
       "      <td>Entire home/apt</td>\n",
       "      <td>175.0</td>\n",
       "      <td>30</td>\n",
       "      <td>58</td>\n",
       "      <td>2017-08-13</td>\n",
       "      <td>0.33</td>\n",
       "      <td>1</td>\n",
       "      <td>246</td>\n",
       "      <td>0</td>\n",
       "      <td>NaN</td>\n",
       "    </tr>\n",
       "    <tr>\n",
       "      <th>10</th>\n",
       "      <td>10452</td>\n",
       "      <td>Wonderful B&amp;B Style room</td>\n",
       "      <td>35935</td>\n",
       "      <td>Angela</td>\n",
       "      <td>Brooklyn</td>\n",
       "      <td>Bedford-Stuyvesant</td>\n",
       "      <td>40.682940</td>\n",
       "      <td>-73.956820</td>\n",
       "      <td>Private room</td>\n",
       "      <td>90.0</td>\n",
       "      <td>30</td>\n",
       "      <td>80</td>\n",
       "      <td>2024-01-28</td>\n",
       "      <td>0.47</td>\n",
       "      <td>6</td>\n",
       "      <td>100</td>\n",
       "      <td>3</td>\n",
       "      <td>NaN</td>\n",
       "    </tr>\n",
       "    <tr>\n",
       "      <th>251</th>\n",
       "      <td>231154</td>\n",
       "      <td>(D) BIG DEAL</td>\n",
       "      <td>27848</td>\n",
       "      <td>Jullett</td>\n",
       "      <td>Queens</td>\n",
       "      <td>Jamaica</td>\n",
       "      <td>40.671440</td>\n",
       "      <td>-73.765010</td>\n",
       "      <td>Private room</td>\n",
       "      <td>NaN</td>\n",
       "      <td>30</td>\n",
       "      <td>31</td>\n",
       "      <td>2018-10-14</td>\n",
       "      <td>0.20</td>\n",
       "      <td>2</td>\n",
       "      <td>0</td>\n",
       "      <td>0</td>\n",
       "      <td>NaN</td>\n",
       "    </tr>\n",
       "    <tr>\n",
       "      <th>1087</th>\n",
       "      <td>1444400</td>\n",
       "      <td>Large Room In Newly Renovated Hell's Kitchen Apt.</td>\n",
       "      <td>7755092</td>\n",
       "      <td>Ron</td>\n",
       "      <td>Manhattan</td>\n",
       "      <td>Hell's Kitchen</td>\n",
       "      <td>40.764730</td>\n",
       "      <td>-73.991400</td>\n",
       "      <td>Private room</td>\n",
       "      <td>82.0</td>\n",
       "      <td>30</td>\n",
       "      <td>476</td>\n",
       "      <td>2024-03-16</td>\n",
       "      <td>5.06</td>\n",
       "      <td>1</td>\n",
       "      <td>109</td>\n",
       "      <td>43</td>\n",
       "      <td>NaN</td>\n",
       "    </tr>\n",
       "    <tr>\n",
       "      <th>4509</th>\n",
       "      <td>8392929</td>\n",
       "      <td>S Affordable and Cozy in Sunset Park</td>\n",
       "      <td>1182180</td>\n",
       "      <td>Isaac, Linda &amp; Noelia</td>\n",
       "      <td>Brooklyn</td>\n",
       "      <td>Sunset Park</td>\n",
       "      <td>40.650780</td>\n",
       "      <td>-74.004000</td>\n",
       "      <td>Private room</td>\n",
       "      <td>44.0</td>\n",
       "      <td>30</td>\n",
       "      <td>38</td>\n",
       "      <td>2024-03-01</td>\n",
       "      <td>0.37</td>\n",
       "      <td>4</td>\n",
       "      <td>280</td>\n",
       "      <td>1</td>\n",
       "      <td>NaN</td>\n",
       "    </tr>\n",
       "  </tbody>\n",
       "</table>\n",
       "</div>"
      ],
      "text/plain": [
       "           id                                               name  host_id  \\\n",
       "8        8490   Maison des Sirenes1,bohemian, luminous apartment    25183   \n",
       "9        9357                               Midtown Pied-a-terre    30193   \n",
       "10      10452                           Wonderful B&B Style room    35935   \n",
       "251    231154                                       (D) BIG DEAL    27848   \n",
       "1087  1444400  Large Room In Newly Renovated Hell's Kitchen Apt.  7755092   \n",
       "4509  8392929               S Affordable and Cozy in Sunset Park  1182180   \n",
       "\n",
       "                  host_name neighbourhood_group       neighbourhood  \\\n",
       "8                  Nathalie            Brooklyn  Bedford-Stuyvesant   \n",
       "9                     Tommi           Manhattan      Hell's Kitchen   \n",
       "10                   Angela            Brooklyn  Bedford-Stuyvesant   \n",
       "251                 Jullett              Queens             Jamaica   \n",
       "1087                    Ron           Manhattan      Hell's Kitchen   \n",
       "4509  Isaac, Linda & Noelia            Brooklyn         Sunset Park   \n",
       "\n",
       "       latitude  longitude        room_type  price  minimum_nights  \\\n",
       "8     40.684556 -73.939634  Entire home/apt  170.0              30   \n",
       "9     40.767240 -73.986640  Entire home/apt  175.0              30   \n",
       "10    40.682940 -73.956820     Private room   90.0              30   \n",
       "251   40.671440 -73.765010     Private room    NaN              30   \n",
       "1087  40.764730 -73.991400     Private room   82.0              30   \n",
       "4509  40.650780 -74.004000     Private room   44.0              30   \n",
       "\n",
       "      number_of_reviews last_review  reviews_per_month  \\\n",
       "8                   190  2023-10-16               1.07   \n",
       "9                    58  2017-08-13               0.33   \n",
       "10                   80  2024-01-28               0.47   \n",
       "251                  31  2018-10-14               0.20   \n",
       "1087                476  2024-03-16               5.06   \n",
       "4509                 38  2024-03-01               0.37   \n",
       "\n",
       "      calculated_host_listings_count  availability_365  number_of_reviews_ltm  \\\n",
       "8                                  2               338                     16   \n",
       "9                                  1               246                      0   \n",
       "10                                 6               100                      3   \n",
       "251                                2                 0                      0   \n",
       "1087                               1               109                     43   \n",
       "4509                               4               280                      1   \n",
       "\n",
       "     license  \n",
       "8        NaN  \n",
       "9        NaN  \n",
       "10       NaN  \n",
       "251      NaN  \n",
       "1087     NaN  \n",
       "4509     NaN  "
      ]
     },
     "execution_count": 180,
     "metadata": {},
     "output_type": "execute_result"
    }
   ],
   "source": [
    "# Rows are indexed only through Numbers , Every row has numbers\n",
    "nybnb.iloc[[8,9,10,251,1087,4509]]"
   ]
  },
  {
   "cell_type": "code",
   "execution_count": 181,
   "id": "20421b99",
   "metadata": {},
   "outputs": [],
   "source": [
    "# Exploratory Data Analysis (EDA) - provide complete understanding of data\n",
    "#EDA = Descriptive Statistics + DAta Vizualization + Data Aggregation\n",
    "# Descriptive Statistics describe the data we are dealing with.\n",
    "\n",
    "#Descriptive Statistics - Numeric variables(int&float)-\n",
    "# Univariate  Statistics (Single Variable Statistics)\n",
    "# Measures of central Tendency (Mid-point)- Mean,median,mode.\n",
    "\n",
    "#Measures of dispersion (Scattering of observations around mean)-\n",
    "#Variance and Standard deviation\n",
    "\n",
    "#Measures of Asymmetry (How close data is to normal Distribution or Bell Curve)-\n",
    "#Skewness & Kurtosis\n",
    "\n",
    "#Measures of Location (Whereobservations is located)- Quartiles\n",
    "#Split data into exactly 4 parts ,Q1,Q2 or Median , Q3\n",
    "\n"
   ]
  },
  {
   "cell_type": "code",
   "execution_count": 182,
   "id": "f5cbabac",
   "metadata": {},
   "outputs": [
    {
     "data": {
      "text/plain": [
       "count     23761.000000\n",
       "mean        206.791212\n",
       "std         762.340521\n",
       "min          10.000000\n",
       "25%          80.000000\n",
       "50%         135.000000\n",
       "75%         230.000000\n",
       "max      100000.000000\n",
       "Name: price, dtype: float64"
      ]
     },
     "execution_count": 182,
     "metadata": {},
     "output_type": "execute_result"
    }
   ],
   "source": [
    "# Predefined function in pandas library - describe() for descriptive statistics\n",
    "nybnb.price.describe()\n",
    "# Count/N ,min,max,mean,std deviation,Q1/25%,Q2/50%/Median ,Q3/75%\n"
   ]
  },
  {
   "cell_type": "code",
   "execution_count": 183,
   "id": "6c4acc85",
   "metadata": {},
   "outputs": [
    {
     "name": "stdout",
     "output_type": "stream",
     "text": [
      "count     23761.000000\n",
      "mean        206.791212\n",
      "std         762.340521\n",
      "min          10.000000\n",
      "25%          80.000000\n",
      "50%         135.000000\n",
      "75%         230.000000\n",
      "max      100000.000000\n",
      "Name: price, dtype: float64\n",
      "Skewness 98.37239374132132\n",
      "Kurtosis 12445.418354825286\n"
     ]
    }
   ],
   "source": [
    "print(nybnb.price.describe())\n",
    "print(\"Skewness\",nybnb.price.skew())\n",
    "print(\"Kurtosis\",nybnb.price.kurt())\n",
    "\n"
   ]
  },
  {
   "cell_type": "code",
   "execution_count": 184,
   "id": "22f25d6f",
   "metadata": {},
   "outputs": [
    {
     "name": "stdout",
     "output_type": "stream",
     "text": [
      "count    38377.000000\n",
      "mean        25.329546\n",
      "std         59.657697\n",
      "min          0.000000\n",
      "25%          0.000000\n",
      "50%          4.000000\n",
      "75%         22.000000\n",
      "max       1901.000000\n",
      "Name: number_of_reviews, dtype: float64\n"
     ]
    }
   ],
   "source": [
    "print(nybnb.number_of_reviews.describe())"
   ]
  },
  {
   "cell_type": "code",
   "execution_count": 185,
   "id": "82f995e3",
   "metadata": {},
   "outputs": [
    {
     "name": "stdout",
     "output_type": "stream",
     "text": [
      "Skewness 6.817562566012423\n",
      "Kurtosis 102.11335115506759\n"
     ]
    }
   ],
   "source": [
    "print(\"Skewness\",nybnb.number_of_reviews.skew())\n",
    "print(\"Kurtosis\",nybnb.number_of_reviews.kurt())"
   ]
  },
  {
   "cell_type": "code",
   "execution_count": 186,
   "id": "2070cd67",
   "metadata": {},
   "outputs": [
    {
     "name": "stdout",
     "output_type": "stream",
     "text": [
      "Skewness 6.817562566012423\n",
      "Kurtosis 102.11335115506759\n"
     ]
    }
   ],
   "source": [
    "print(\"Skewness\",nybnb.number_of_reviews.skew())\n",
    "print(\"Kurtosis\",nybnb.number_of_reviews.kurt())"
   ]
  },
  {
   "cell_type": "code",
   "execution_count": 187,
   "id": "5d545021",
   "metadata": {},
   "outputs": [
    {
     "name": "stdout",
     "output_type": "stream",
     "text": [
      "<class 'pandas.core.frame.DataFrame'>\n",
      "RangeIndex: 38377 entries, 0 to 38376\n",
      "Data columns (total 18 columns):\n",
      " #   Column                          Non-Null Count  Dtype  \n",
      "---  ------                          --------------  -----  \n",
      " 0   id                              38377 non-null  int64  \n",
      " 1   name                            38375 non-null  object \n",
      " 2   host_id                         38377 non-null  int64  \n",
      " 3   host_name                       38372 non-null  object \n",
      " 4   neighbourhood_group             38377 non-null  object \n",
      " 5   neighbourhood                   38377 non-null  object \n",
      " 6   latitude                        38377 non-null  float64\n",
      " 7   longitude                       38377 non-null  float64\n",
      " 8   room_type                       38377 non-null  object \n",
      " 9   price                           23761 non-null  float64\n",
      " 10  minimum_nights                  38377 non-null  int64  \n",
      " 11  number_of_reviews               38377 non-null  int64  \n",
      " 12  last_review                     26766 non-null  object \n",
      " 13  reviews_per_month               26766 non-null  float64\n",
      " 14  calculated_host_listings_count  38377 non-null  int64  \n",
      " 15  availability_365                38377 non-null  int64  \n",
      " 16  number_of_reviews_ltm           38377 non-null  int64  \n",
      " 17  license                         5063 non-null   object \n",
      "dtypes: float64(4), int64(7), object(7)\n",
      "memory usage: 5.3+ MB\n"
     ]
    }
   ],
   "source": [
    "nybnb.info()\n"
   ]
  },
  {
   "cell_type": "code",
   "execution_count": 188,
   "id": "4f2e55a0",
   "metadata": {},
   "outputs": [
    {
     "data": {
      "text/plain": [
       "room_type\n",
       "Entire home/apt    20360\n",
       "Private room       17297\n",
       "Shared room          546\n",
       "Hotel room           174\n",
       "Name: count, dtype: int64"
      ]
     },
     "execution_count": 188,
     "metadata": {},
     "output_type": "execute_result"
    }
   ],
   "source": [
    "nybnb.room_type.value_counts()"
   ]
  },
  {
   "cell_type": "code",
   "execution_count": 189,
   "id": "2d814495",
   "metadata": {},
   "outputs": [
    {
     "data": {
      "text/plain": [
       "neighbourhood\n",
       "Bedford-Stuyvesant    2788\n",
       "Williamsburg          2259\n",
       "Midtown               1978\n",
       "Harlem                1832\n",
       "Hell's Kitchen        1636\n",
       "Name: count, dtype: int64"
      ]
     },
     "execution_count": 189,
     "metadata": {},
     "output_type": "execute_result"
    }
   ],
   "source": [
    "pd.set_option(\"display.max_rows\",225) # To Display complete Output\n",
    "nybnb.neighbourhood.value_counts().head()"
   ]
  },
  {
   "cell_type": "code",
   "execution_count": 190,
   "id": "0251473e",
   "metadata": {},
   "outputs": [
    {
     "data": {
      "text/plain": [
       "neighbourhood\n",
       "Bedford-Stuyvesant            2788\n",
       "Williamsburg                  2259\n",
       "Midtown                       1978\n",
       "Harlem                        1832\n",
       "Hell's Kitchen                1636\n",
       "Bushwick                      1593\n",
       "Upper East Side               1514\n",
       "Upper West Side               1504\n",
       "Crown Heights                 1227\n",
       "East Village                  1075\n",
       "Chelsea                        812\n",
       "East Harlem                    716\n",
       "Greenpoint                     646\n",
       "Lower East Side                635\n",
       "Astoria                        592\n",
       "Financial District             591\n",
       "Washington Heights             587\n",
       "East Flatbush                  526\n",
       "Flatbush                       505\n",
       "Flushing                       490\n",
       "West Village                   475\n",
       "Murray Hill                    438\n",
       "Long Island City               424\n",
       "Kips Bay                       408\n",
       "Theater District               397\n",
       "Woodside                       390\n",
       "Prospect-Lefferts Gardens      383\n",
       "Ridgewood                      347\n",
       "Elmhurst                       331\n",
       "Clinton Hill                   330\n",
       "Park Slope                     307\n",
       "Fort Greene                    304\n",
       "East New York                  298\n",
       "Sunset Park                    291\n",
       "Jamaica                        283\n",
       "Chinatown                      273\n",
       "Sunnyside                      267\n",
       "SoHo                           257\n",
       "Gramercy                       236\n",
       "Jackson Heights                232\n",
       "Canarsie                       217\n",
       "Ditmars Steinway               211\n",
       "East Elmhurst                  210\n",
       "Prospect Heights               206\n",
       "Greenwich Village              204\n",
       "Morningside Heights            196\n",
       "Nolita                         188\n",
       "Inwood                         180\n",
       "Tribeca                        174\n",
       "Cypress Hills                  172\n",
       "South Slope                    172\n",
       "Carroll Gardens                163\n",
       "Bay Ridge                      156\n",
       "Gowanus                        148\n",
       "Sheepshead Bay                 139\n",
       "St. Albans                     130\n",
       "Springfield Gardens            125\n",
       "Boerum Hill                    118\n",
       "Brownsville                    113\n",
       "Kensington                     113\n",
       "Flatlands                      112\n",
       "Little Italy                   109\n",
       "Richmond Hill                  107\n",
       "Maspeth                        106\n",
       "Rosedale                       102\n",
       "Forest Hills                   101\n",
       "Midwood                         95\n",
       "Brooklyn Heights                90\n",
       "Arverne                         88\n",
       "Windsor Terrace                 87\n",
       "Battery Park City               86\n",
       "Flatiron District               85\n",
       "Queens Village                  83\n",
       "Woodhaven                       83\n",
       "Rego Park                       82\n",
       "Wakefield                       81\n",
       "Mott Haven                      76\n",
       "Kingsbridge                     72\n",
       "Ozone Park                      69\n",
       "Downtown Brooklyn               69\n",
       "Borough Park                    68\n",
       "Gravesend                       64\n",
       "South Ozone Park                64\n",
       "Brighton Beach                  62\n",
       "Rockaway Beach                  60\n",
       "Bensonhurst                     59\n",
       "Fordham                         58\n",
       "Cambria Heights                 58\n",
       "Cobble Hill                     58\n",
       "Stuyvesant Town                 56\n",
       "Glendale                        55\n",
       "Far Rockaway                    55\n",
       "Williamsbridge                  54\n",
       "Corona                          51\n",
       "Laurelton                       51\n",
       "Claremont Village               51\n",
       "Longwood                        50\n",
       "Allerton                        49\n",
       "Fort Hamilton                   48\n",
       "College Point                   47\n",
       "Red Hook                        46\n",
       "Bayside                         46\n",
       "Port Morris                     43\n",
       "Concourse                       42\n",
       "Briarwood                       42\n",
       "Two Bridges                     41\n",
       "Norwood                         41\n",
       "Jamaica Estates                 41\n",
       "Roosevelt Island                39\n",
       "Tompkinsville                   39\n",
       "Clason Point                    39\n",
       "St. George                      38\n",
       "Vinegar Hill                    37\n",
       "Fresh Meadows                   37\n",
       "Kew Gardens                     35\n",
       "Concourse Village               35\n",
       "Belmont                         35\n",
       "Throgs Neck                     35\n",
       "Pelham Gardens                  34\n",
       "Mount Hope                      33\n",
       "Morris Park                     33\n",
       "Howard Beach                    31\n",
       "Hunts Point                     30\n",
       "Parkchester                     29\n",
       "DUMBO                           28\n",
       "Civic Center                    26\n",
       "Bath Beach                      26\n",
       "Kew Gardens Hills               25\n",
       "NoHo                            25\n",
       "Edenwald                        25\n",
       "Melrose                         24\n",
       "Morris Heights                  24\n",
       "Mariners Harbor                 24\n",
       "Highbridge                      23\n",
       "Baychester                      22\n",
       "Hollis                          22\n",
       "Sea Gate                        22\n",
       "West Brighton                   21\n",
       "Middle Village                  21\n",
       "Schuylerville                   21\n",
       "Coney Island                    20\n",
       "Columbia St                     19\n",
       "Bronxdale                       19\n",
       "Dyker Heights                   18\n",
       "Tremont                         18\n",
       "Randall Manor                   18\n",
       "Soundview                       18\n",
       "Grant City                      17\n",
       "Whitestone                      16\n",
       "Bergen Beach                    15\n",
       "Van Nest                        15\n",
       "Stapleton                       15\n",
       "Bellerose                       15\n",
       "Bayswater                       15\n",
       "Pelham Bay                      14\n",
       "Edgemere                        14\n",
       "Clifton                         13\n",
       "Shore Acres                     13\n",
       "City Island                     13\n",
       "Jamaica Hills                   12\n",
       "Morrisania                      12\n",
       "Arrochar                        12\n",
       "Unionport                       12\n",
       "New Brighton                    11\n",
       "East Morrisania                 11\n",
       "North Riverdale                 11\n",
       "Eastchester                     10\n",
       "Bull's Head                      9\n",
       "Gerritsen Beach                  9\n",
       "Woodlawn                         9\n",
       "Port Richmond                    8\n",
       "Marble Hill                      8\n",
       "Prince's Bay                     8\n",
       "Olinville                        8\n",
       "Castle Hill                      8\n",
       "Fieldston                        8\n",
       "Co-op City                       8\n",
       "Riverdale                        8\n",
       "Holliswood                       8\n",
       "Westchester Square               7\n",
       "Emerson Hill                     7\n",
       "Midland Beach                    7\n",
       "Spuyten Duyvil                   7\n",
       "Manhattan Beach                  7\n",
       "Concord                          7\n",
       "Belle Harbor                     7\n",
       "Mount Eden                       7\n",
       "Mill Basin                       7\n",
       "Castleton Corners                7\n",
       "Rosebank                         6\n",
       "Graniteville                     6\n",
       "Tottenville                      6\n",
       "South Beach                      6\n",
       "University Heights               5\n",
       "Little Neck                      5\n",
       "Bay Terrace                      5\n",
       "Grymes Hill                      5\n",
       "Great Kills                      5\n",
       "Navy Yard                        4\n",
       "West Farms                       4\n",
       "New Dorp Beach                   4\n",
       "Arden Heights                    4\n",
       "Todt Hill                        4\n",
       "Breezy Point                     4\n",
       "Woodrow                          4\n",
       "Westerleigh                      4\n",
       "Dongan Hills                     4\n",
       "Silver Lake                      3\n",
       "Eltingville                      3\n",
       "New Springville                  3\n",
       "Douglaston                       3\n",
       "Richmondtown                     3\n",
       "Willowbrook                      2\n",
       "Country Club                     2\n",
       "Huguenot                         2\n",
       "Lighthouse Hill                  2\n",
       "Oakwood                          2\n",
       "Howland Hook                     2\n",
       "Neponsit                         1\n",
       "New Dorp                         1\n",
       "Chelsea, Staten Island           1\n",
       "Fort Wadsworth                   1\n",
       "Rossville                        1\n",
       "Bay Terrace, Staten Island       1\n",
       "Hollis Hills                     1\n",
       "Name: count, dtype: int64"
      ]
     },
     "execution_count": 190,
     "metadata": {},
     "output_type": "execute_result"
    }
   ],
   "source": [
    "nybnb.neighbourhood.value_counts()"
   ]
  },
  {
   "cell_type": "code",
   "execution_count": 191,
   "id": "00f8b1b9",
   "metadata": {},
   "outputs": [
    {
     "data": {
      "text/plain": [
       "neighbourhood\n",
       "Bedford-Stuyvesant    2788\n",
       "Williamsburg          2259\n",
       "Midtown               1978\n",
       "Harlem                1832\n",
       "Hell's Kitchen        1636\n",
       "Bushwick              1593\n",
       "Upper East Side       1514\n",
       "Upper West Side       1504\n",
       "Crown Heights         1227\n",
       "East Village          1075\n",
       "Chelsea                812\n",
       "East Harlem            716\n",
       "Greenpoint             646\n",
       "Lower East Side        635\n",
       "Astoria                592\n",
       "Financial District     591\n",
       "Washington Heights     587\n",
       "East Flatbush          526\n",
       "Flatbush               505\n",
       "Flushing               490\n",
       "Name: count, dtype: int64"
      ]
     },
     "execution_count": 191,
     "metadata": {},
     "output_type": "execute_result"
    }
   ],
   "source": [
    "# Top 20\n",
    "nybnb.neighbourhood.value_counts().nlargest(20)"
   ]
  },
  {
   "cell_type": "code",
   "execution_count": 192,
   "id": "2a2b1e9a",
   "metadata": {},
   "outputs": [
    {
     "data": {
      "text/plain": [
       "neighbourhood\n",
       "Neponsit                      1\n",
       "New Dorp                      1\n",
       "Chelsea, Staten Island        1\n",
       "Fort Wadsworth                1\n",
       "Rossville                     1\n",
       "Bay Terrace, Staten Island    1\n",
       "Hollis Hills                  1\n",
       "Willowbrook                   2\n",
       "Country Club                  2\n",
       "Huguenot                      2\n",
       "Name: count, dtype: int64"
      ]
     },
     "execution_count": 192,
     "metadata": {},
     "output_type": "execute_result"
    }
   ],
   "source": [
    "# Bottom 20\n",
    "nybnb.neighbourhood.value_counts().nsmallest(10)"
   ]
  },
  {
   "cell_type": "code",
   "execution_count": 193,
   "id": "894eda25",
   "metadata": {},
   "outputs": [
    {
     "data": {
      "text/plain": [
       "<Axes: xlabel='room_type'>"
      ]
     },
     "execution_count": 193,
     "metadata": {},
     "output_type": "execute_result"
    },
    {
     "data": {
      "image/png": "[encoded data removed]",
      "text/plain": [
       "<Figure size 640x480 with 1 Axes>"
      ]
     },
     "metadata": {},
     "output_type": "display_data"
    }
   ],
   "source": [
    "nybnb.room_type.value_counts().plot(kind='bar',color='purple')"
   ]
  },
  {
   "cell_type": "code",
   "execution_count": 194,
   "id": "4c045e84",
   "metadata": {},
   "outputs": [
    {
     "data": {
      "text/plain": [
       "<Axes: xlabel='neighbourhood'>"
      ]
     },
     "execution_count": 194,
     "metadata": {},
     "output_type": "execute_result"
    },
    {
     "data": {
      "image/png": "[encoded data removed]",
      "text/plain": [
       "<Figure size 640x480 with 1 Axes>"
      ]
     },
     "metadata": {},
     "output_type": "display_data"
    }
   ],
   "source": [
    "# Top 20\n",
    "nybnb.neighbourhood.value_counts().nlargest(20).plot(kind='bar',color='yellow')"
   ]
  },
  {
   "cell_type": "code",
   "execution_count": 195,
   "id": "c0c93c2d",
   "metadata": {},
   "outputs": [
    {
     "data": {
      "image/png": "[encoded data removed]",
      "text/plain": [
       "<Figure size 640x480 with 1 Axes>"
      ]
     },
     "metadata": {},
     "output_type": "display_data"
    }
   ],
   "source": [
    "# Top 20\n",
    "ax=nybnb.neighbourhood.value_counts().nlargest(20).plot(kind='bar',color='yellow')\n",
    "for i in ax.containers:\n",
    "    ax.bar_label(i,fontsize=8,color=\"red\")"
   ]
  },
  {
   "cell_type": "code",
   "execution_count": 196,
   "id": "98b659c6",
   "metadata": {},
   "outputs": [
    {
     "data": {
      "text/plain": [
       "<Axes: xlabel='neighbourhood'>"
      ]
     },
     "execution_count": 196,
     "metadata": {},
     "output_type": "execute_result"
    },
    {
     "data": {
      "image/png": "[encoded data removed]",
      "text/plain": [
       "<Figure size 640x480 with 1 Axes>"
      ]
     },
     "metadata": {},
     "output_type": "display_data"
    }
   ],
   "source": [
    "pd.crosstab(nybnb.neighbourhood,\n",
    "            nybnb.room_type).sort_values(by='Entire home/apt',\n",
    "                                         ascending=False).nlargest(20,\n",
    "                                                                   columns=\"Entire home/apt\").plot(kind='bar'\n",
    "                                                                                                   ,stacked=True)"
   ]
  },
  {
   "cell_type": "code",
   "execution_count": 197,
   "id": "a2827774",
   "metadata": {},
   "outputs": [
    {
     "data": {
      "text/plain": [
       "<Axes: xlabel='neighbourhood'>"
      ]
     },
     "execution_count": 197,
     "metadata": {},
     "output_type": "execute_result"
    },
    {
     "data": {
      "image/png": "[encoded data removed]",
      "text/plain": [
       "<Figure size 640x480 with 1 Axes>"
      ]
     },
     "metadata": {},
     "output_type": "display_data"
    }
   ],
   "source": [
    "pd.crosstab(nybnb.neighbourhood,\n",
    "            nybnb.room_type).sort_values(by='Entire home/apt',\n",
    "                                         ascending=False).nlargest(10,\n",
    "                                                                   columns=\"Entire home/apt\").plot(kind='bar'\n",
    "                                                                                                   ,stacked=True)"
   ]
  },
  {
   "cell_type": "code",
   "execution_count": 198,
   "id": "ed796886",
   "metadata": {},
   "outputs": [
    {
     "data": {
      "text/plain": [
       "room_type\n",
       "Entire home/apt    263.805126\n",
       "Hotel room         328.102041\n",
       "Private room       136.079063\n",
       "Shared room        113.071839\n",
       "Name: price, dtype: float64"
      ]
     },
     "execution_count": 198,
     "metadata": {},
     "output_type": "execute_result"
    }
   ],
   "source": [
    "nybnb.price.groupby(nybnb.room_type).mean()"
   ]
  },
  {
   "cell_type": "code",
   "execution_count": 201,
   "id": "7281f528",
   "metadata": {},
   "outputs": [
    {
     "data": {
      "text/plain": [
       "neighbourhood\n",
       "SoHo                 851.125000\n",
       "Rossville            840.000000\n",
       "Riverdale            727.666667\n",
       "Battery Park City    653.473684\n",
       "Todt Hill            630.000000\n",
       "Fort Wadsworth       600.000000\n",
       "Tribeca              523.580952\n",
       "Longwood             448.206897\n",
       "Civic Center         409.625000\n",
       "NoHo                 406.555556\n",
       "Name: price, dtype: float64"
      ]
     },
     "execution_count": 201,
     "metadata": {},
     "output_type": "execute_result"
    }
   ],
   "source": [
    "nybnb.price.groupby(nybnb.neighbourhood).mean().nlargest(10)"
   ]
  },
  {
   "cell_type": "code",
   "execution_count": null,
   "id": "a6f4f509",
   "metadata": {},
   "outputs": [],
   "source": []
  }
 ],
 "metadata": {
  "kernelspec": {
   "display_name": "Python 3 (ipykernel)",
   "language": "python",
   "name": "python3"
  },
  "language_info": {
   "codemirror_mode": {
    "name": "ipython",
    "version": 3
   },
   "file_extension": ".py",
   "mimetype": "text/x-python",
   "name": "python",
   "nbconvert_exporter": "python",
   "pygments_lexer": "ipython3",
   "version": "3.11.7"
  }
 },
 "nbformat": 4,
 "nbformat_minor": 5
}
