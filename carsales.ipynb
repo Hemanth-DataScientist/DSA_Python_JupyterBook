{
 "cells": [
  {
   "cell_type": "code",
   "execution_count": 71,
   "id": "5aab205a",
   "metadata": {},
   "outputs": [],
   "source": [
    "import pandas as pd\n",
    "import numpy as np\n",
    "import matplotlib.pyplot as plt\n",
    "%matplotlib inline"
   ]
  },
  {
   "cell_type": "code",
   "execution_count": 72,
   "id": "b36ea4ef",
   "metadata": {},
   "outputs": [
    {
     "name": "stdout",
     "output_type": "stream",
     "text": [
      "C:\\Users\\pc\\OneDrive\\Desktop\\Python Working_Directory\n"
     ]
    }
   ],
   "source": [
    "import io\n",
    "%cd \"C:\\Users\\pc\\OneDrive\\Desktop\\Python Working_Directory\""
   ]
  },
  {
   "cell_type": "code",
   "execution_count": 73,
   "id": "26a70370",
   "metadata": {},
   "outputs": [],
   "source": [
    "carsales=pd.read_csv(\"usedcarsales.csv\")"
   ]
  },
  {
   "cell_type": "code",
   "execution_count": 74,
   "id": "f47b37b4",
   "metadata": {},
   "outputs": [
    {
     "name": "stdout",
     "output_type": "stream",
     "text": [
      "<class 'pandas.core.frame.DataFrame'>\n",
      "RangeIndex: 1436 entries, 0 to 1435\n",
      "Data columns (total 13 columns):\n",
      " #   Column        Non-Null Count  Dtype \n",
      "---  ------        --------------  ----- \n",
      " 0   Unnamed: 0    1436 non-null   int64 \n",
      " 1   Price         1436 non-null   int64 \n",
      " 2   Age           1436 non-null   int64 \n",
      " 3   KM            1436 non-null   int64 \n",
      " 4   FuelType      1436 non-null   object\n",
      " 5   HP            1436 non-null   int64 \n",
      " 6   MetColor      1436 non-null   int64 \n",
      " 7   Automatic     1436 non-null   int64 \n",
      " 8   CC            1436 non-null   int64 \n",
      " 9   Doors         1436 non-null   int64 \n",
      " 10  Weight        1436 non-null   int64 \n",
      " 11  AutoType      1436 non-null   object\n",
      " 12  MetColorType  1436 non-null   object\n",
      "dtypes: int64(10), object(3)\n",
      "memory usage: 146.0+ KB\n"
     ]
    }
   ],
   "source": [
    "carsales.info()"
   ]
  },
  {
   "cell_type": "code",
   "execution_count": 75,
   "id": "3ea2b271",
   "metadata": {},
   "outputs": [
    {
     "data": {
      "text/html": [
       "<div>\n",
       "<style scoped>\n",
       "    .dataframe tbody tr th:only-of-type {\n",
       "        vertical-align: middle;\n",
       "    }\n",
       "\n",
       "    .dataframe tbody tr th {\n",
       "        vertical-align: top;\n",
       "    }\n",
       "\n",
       "    .dataframe thead th {\n",
       "        text-align: right;\n",
       "    }\n",
       "</style>\n",
       "<table border=\"1\" class=\"dataframe\">\n",
       "  <thead>\n",
       "    <tr style=\"text-align: right;\">\n",
       "      <th></th>\n",
       "      <th>Unnamed: 0</th>\n",
       "      <th>Price</th>\n",
       "      <th>Age</th>\n",
       "      <th>KM</th>\n",
       "      <th>FuelType</th>\n",
       "      <th>HP</th>\n",
       "      <th>MetColor</th>\n",
       "      <th>Automatic</th>\n",
       "      <th>CC</th>\n",
       "      <th>Doors</th>\n",
       "      <th>Weight</th>\n",
       "      <th>AutoType</th>\n",
       "      <th>MetColorType</th>\n",
       "    </tr>\n",
       "  </thead>\n",
       "  <tbody>\n",
       "    <tr>\n",
       "      <th>0</th>\n",
       "      <td>1</td>\n",
       "      <td>13500</td>\n",
       "      <td>23</td>\n",
       "      <td>46986</td>\n",
       "      <td>Diesel</td>\n",
       "      <td>90</td>\n",
       "      <td>1</td>\n",
       "      <td>0</td>\n",
       "      <td>2000</td>\n",
       "      <td>3</td>\n",
       "      <td>1165</td>\n",
       "      <td>Manual</td>\n",
       "      <td>Metcolor</td>\n",
       "    </tr>\n",
       "    <tr>\n",
       "      <th>1</th>\n",
       "      <td>2</td>\n",
       "      <td>13750</td>\n",
       "      <td>23</td>\n",
       "      <td>72937</td>\n",
       "      <td>Diesel</td>\n",
       "      <td>90</td>\n",
       "      <td>1</td>\n",
       "      <td>0</td>\n",
       "      <td>2000</td>\n",
       "      <td>3</td>\n",
       "      <td>1165</td>\n",
       "      <td>Manual</td>\n",
       "      <td>Metcolor</td>\n",
       "    </tr>\n",
       "    <tr>\n",
       "      <th>2</th>\n",
       "      <td>3</td>\n",
       "      <td>13950</td>\n",
       "      <td>24</td>\n",
       "      <td>41711</td>\n",
       "      <td>Diesel</td>\n",
       "      <td>90</td>\n",
       "      <td>1</td>\n",
       "      <td>0</td>\n",
       "      <td>2000</td>\n",
       "      <td>3</td>\n",
       "      <td>1165</td>\n",
       "      <td>Manual</td>\n",
       "      <td>Metcolor</td>\n",
       "    </tr>\n",
       "    <tr>\n",
       "      <th>3</th>\n",
       "      <td>4</td>\n",
       "      <td>14950</td>\n",
       "      <td>26</td>\n",
       "      <td>48000</td>\n",
       "      <td>Diesel</td>\n",
       "      <td>90</td>\n",
       "      <td>0</td>\n",
       "      <td>0</td>\n",
       "      <td>2000</td>\n",
       "      <td>3</td>\n",
       "      <td>1165</td>\n",
       "      <td>Manual</td>\n",
       "      <td>NonMetcolor</td>\n",
       "    </tr>\n",
       "    <tr>\n",
       "      <th>4</th>\n",
       "      <td>5</td>\n",
       "      <td>13750</td>\n",
       "      <td>30</td>\n",
       "      <td>38500</td>\n",
       "      <td>Diesel</td>\n",
       "      <td>90</td>\n",
       "      <td>0</td>\n",
       "      <td>0</td>\n",
       "      <td>2000</td>\n",
       "      <td>3</td>\n",
       "      <td>1170</td>\n",
       "      <td>Manual</td>\n",
       "      <td>NonMetcolor</td>\n",
       "    </tr>\n",
       "  </tbody>\n",
       "</table>\n",
       "</div>"
      ],
      "text/plain": [
       "   Unnamed: 0  Price  Age     KM FuelType  HP  MetColor  Automatic    CC  \\\n",
       "0           1  13500   23  46986   Diesel  90         1          0  2000   \n",
       "1           2  13750   23  72937   Diesel  90         1          0  2000   \n",
       "2           3  13950   24  41711   Diesel  90         1          0  2000   \n",
       "3           4  14950   26  48000   Diesel  90         0          0  2000   \n",
       "4           5  13750   30  38500   Diesel  90         0          0  2000   \n",
       "\n",
       "   Doors  Weight AutoType MetColorType  \n",
       "0      3    1165   Manual     Metcolor  \n",
       "1      3    1165   Manual     Metcolor  \n",
       "2      3    1165   Manual     Metcolor  \n",
       "3      3    1165   Manual  NonMetcolor  \n",
       "4      3    1170   Manual  NonMetcolor  "
      ]
     },
     "execution_count": 75,
     "metadata": {},
     "output_type": "execute_result"
    }
   ],
   "source": [
    "carsales.head()"
   ]
  },
  {
   "cell_type": "code",
   "execution_count": 76,
   "id": "a70a7a71",
   "metadata": {},
   "outputs": [
    {
     "data": {
      "text/html": [
       "<div>\n",
       "<style scoped>\n",
       "    .dataframe tbody tr th:only-of-type {\n",
       "        vertical-align: middle;\n",
       "    }\n",
       "\n",
       "    .dataframe tbody tr th {\n",
       "        vertical-align: top;\n",
       "    }\n",
       "\n",
       "    .dataframe thead th {\n",
       "        text-align: right;\n",
       "    }\n",
       "</style>\n",
       "<table border=\"1\" class=\"dataframe\">\n",
       "  <thead>\n",
       "    <tr style=\"text-align: right;\">\n",
       "      <th></th>\n",
       "      <th>Unnamed: 0</th>\n",
       "      <th>Price</th>\n",
       "      <th>Age</th>\n",
       "      <th>KM</th>\n",
       "      <th>FuelType</th>\n",
       "      <th>HP</th>\n",
       "      <th>MetColor</th>\n",
       "      <th>Automatic</th>\n",
       "      <th>CC</th>\n",
       "      <th>Doors</th>\n",
       "      <th>Weight</th>\n",
       "      <th>AutoType</th>\n",
       "      <th>MetColorType</th>\n",
       "    </tr>\n",
       "  </thead>\n",
       "  <tbody>\n",
       "    <tr>\n",
       "      <th>1431</th>\n",
       "      <td>1432</td>\n",
       "      <td>7500</td>\n",
       "      <td>69</td>\n",
       "      <td>20544</td>\n",
       "      <td>Petrol</td>\n",
       "      <td>86</td>\n",
       "      <td>1</td>\n",
       "      <td>0</td>\n",
       "      <td>1300</td>\n",
       "      <td>3</td>\n",
       "      <td>1025</td>\n",
       "      <td>Manual</td>\n",
       "      <td>Metcolor</td>\n",
       "    </tr>\n",
       "    <tr>\n",
       "      <th>1432</th>\n",
       "      <td>1433</td>\n",
       "      <td>10845</td>\n",
       "      <td>72</td>\n",
       "      <td>19000</td>\n",
       "      <td>Petrol</td>\n",
       "      <td>86</td>\n",
       "      <td>0</td>\n",
       "      <td>0</td>\n",
       "      <td>1300</td>\n",
       "      <td>3</td>\n",
       "      <td>1015</td>\n",
       "      <td>Manual</td>\n",
       "      <td>NonMetcolor</td>\n",
       "    </tr>\n",
       "    <tr>\n",
       "      <th>1433</th>\n",
       "      <td>1434</td>\n",
       "      <td>8500</td>\n",
       "      <td>71</td>\n",
       "      <td>17016</td>\n",
       "      <td>Petrol</td>\n",
       "      <td>86</td>\n",
       "      <td>0</td>\n",
       "      <td>0</td>\n",
       "      <td>1300</td>\n",
       "      <td>3</td>\n",
       "      <td>1015</td>\n",
       "      <td>Manual</td>\n",
       "      <td>NonMetcolor</td>\n",
       "    </tr>\n",
       "    <tr>\n",
       "      <th>1434</th>\n",
       "      <td>1435</td>\n",
       "      <td>7250</td>\n",
       "      <td>70</td>\n",
       "      <td>16916</td>\n",
       "      <td>Petrol</td>\n",
       "      <td>86</td>\n",
       "      <td>1</td>\n",
       "      <td>0</td>\n",
       "      <td>1300</td>\n",
       "      <td>3</td>\n",
       "      <td>1015</td>\n",
       "      <td>Manual</td>\n",
       "      <td>Metcolor</td>\n",
       "    </tr>\n",
       "    <tr>\n",
       "      <th>1435</th>\n",
       "      <td>1436</td>\n",
       "      <td>6950</td>\n",
       "      <td>76</td>\n",
       "      <td>1</td>\n",
       "      <td>Petrol</td>\n",
       "      <td>110</td>\n",
       "      <td>0</td>\n",
       "      <td>0</td>\n",
       "      <td>1600</td>\n",
       "      <td>5</td>\n",
       "      <td>1114</td>\n",
       "      <td>Manual</td>\n",
       "      <td>NonMetcolor</td>\n",
       "    </tr>\n",
       "  </tbody>\n",
       "</table>\n",
       "</div>"
      ],
      "text/plain": [
       "      Unnamed: 0  Price  Age     KM FuelType   HP  MetColor  Automatic    CC  \\\n",
       "1431        1432   7500   69  20544   Petrol   86         1          0  1300   \n",
       "1432        1433  10845   72  19000   Petrol   86         0          0  1300   \n",
       "1433        1434   8500   71  17016   Petrol   86         0          0  1300   \n",
       "1434        1435   7250   70  16916   Petrol   86         1          0  1300   \n",
       "1435        1436   6950   76      1   Petrol  110         0          0  1600   \n",
       "\n",
       "      Doors  Weight AutoType MetColorType  \n",
       "1431      3    1025   Manual     Metcolor  \n",
       "1432      3    1015   Manual  NonMetcolor  \n",
       "1433      3    1015   Manual  NonMetcolor  \n",
       "1434      3    1015   Manual     Metcolor  \n",
       "1435      5    1114   Manual  NonMetcolor  "
      ]
     },
     "execution_count": 76,
     "metadata": {},
     "output_type": "execute_result"
    }
   ],
   "source": [
    "carsales.tail()"
   ]
  },
  {
   "cell_type": "code",
   "execution_count": 77,
   "id": "4c1b7038",
   "metadata": {},
   "outputs": [
    {
     "data": {
      "text/plain": [
       "Index(['Unnamed: 0', 'Price', 'Age', 'KM', 'FuelType', 'HP', 'MetColor',\n",
       "       'Automatic', 'CC', 'Doors', 'Weight', 'AutoType', 'MetColorType'],\n",
       "      dtype='object')"
      ]
     },
     "execution_count": 77,
     "metadata": {},
     "output_type": "execute_result"
    }
   ],
   "source": [
    "carsales.columns\n",
    "# Objective - Build a Machine Learning Model that Predicts Price of the car\n",
    "#Based on Age,KM,FuelType,HP,CC,Weight,etc.\n",
    "\n",
    "\n",
    "#Dependent variable(Y) -Price\n",
    "\n",
    "#InDependent variable(X) -Age ,KM, FuelType,HP,CC,Weight,etc\n",
    "\n",
    "# Only one Dependent Variable which is being predicted\n",
    "#Multiple Independent Variables used for prediction"
   ]
  },
  {
   "cell_type": "code",
   "execution_count": 78,
   "id": "915f8b57",
   "metadata": {},
   "outputs": [
    {
     "data": {
      "text/plain": [
       "0    13500\n",
       "1    13750\n",
       "2    13950\n",
       "3    14950\n",
       "4    13750\n",
       "Name: Price, dtype: int64"
      ]
     },
     "execution_count": 78,
     "metadata": {},
     "output_type": "execute_result"
    }
   ],
   "source": [
    "carsales['Price'].head() "
   ]
  },
  {
   "cell_type": "code",
   "execution_count": 79,
   "id": "8d558d6f",
   "metadata": {},
   "outputs": [
    {
     "data": {
      "text/plain": [
       "0    13500\n",
       "1    13750\n",
       "2    13950\n",
       "3    14950\n",
       "4    13750\n",
       "Name: Price, dtype: int64"
      ]
     },
     "execution_count": 79,
     "metadata": {},
     "output_type": "execute_result"
    }
   ],
   "source": [
    "carsales.Price.head()"
   ]
  },
  {
   "cell_type": "code",
   "execution_count": 80,
   "id": "ba3cf2ed",
   "metadata": {},
   "outputs": [
    {
     "data": {
      "text/plain": [
       "count     1436.000000\n",
       "mean     10730.824513\n",
       "std       3626.964585\n",
       "min       4350.000000\n",
       "25%       8450.000000\n",
       "50%       9900.000000\n",
       "75%      11950.000000\n",
       "max      32500.000000\n",
       "Name: Price, dtype: float64"
      ]
     },
     "execution_count": 80,
     "metadata": {},
     "output_type": "execute_result"
    }
   ],
   "source": [
    "carsales.Price.describe()"
   ]
  },
  {
   "cell_type": "code",
   "execution_count": 81,
   "id": "a046b718",
   "metadata": {},
   "outputs": [
    {
     "name": "stdout",
     "output_type": "stream",
     "text": [
      "count     1436.000000\n",
      "mean     10730.824513\n",
      "std       3626.964585\n",
      "min       4350.000000\n",
      "25%       8450.000000\n",
      "50%       9900.000000\n",
      "75%      11950.000000\n",
      "max      32500.000000\n",
      "Name: Price, dtype: float64\n",
      "Skewness 1.7038849799952995\n",
      "Kurtosis 3.737781189982718\n"
     ]
    }
   ],
   "source": [
    "print(carsales.Price.describe())\n",
    "print(\"Skewness\",carsales.Price.skew())\n",
    "print(\"Kurtosis\",carsales.Price.kurt())"
   ]
  },
  {
   "cell_type": "code",
   "execution_count": 82,
   "id": "dfee21ac",
   "metadata": {},
   "outputs": [
    {
     "name": "stdout",
     "output_type": "stream",
     "text": [
      "count    1436.000000\n",
      "mean       55.947075\n",
      "std        18.599988\n",
      "min         1.000000\n",
      "25%        44.000000\n",
      "50%        61.000000\n",
      "75%        70.000000\n",
      "max        80.000000\n",
      "Name: Age, dtype: float64\n"
     ]
    }
   ],
   "source": [
    "print(carsales.Age.describe())"
   ]
  },
  {
   "cell_type": "markdown",
   "id": "c3e9cd52",
   "metadata": {},
   "source": [
    " print(carsales.Age.describe())\n",
    "print(\"Skewness\",carsales.Age.skew())\n",
    "print(\"Kurtosis\",carsales.Age.kurt())"
   ]
  },
  {
   "cell_type": "code",
   "execution_count": 83,
   "id": "150c1a3a",
   "metadata": {},
   "outputs": [],
   "source": [
    "# Exploratory Data Analysis - Data Vizualization\n",
    "# Plots like plot, bar chart (vertical/horizontal), pie chart , etc\n",
    "\n",
    "#Most important Univariate Plots in Machine learning are\n",
    "# 1) Histogram 2) Boxplot and 3) Density curve\n",
    "\n",
    "# Histogram is bar chart of frequency distribution table. Frequency\n",
    "# Distribution Table has 2 column -\n",
    "# Class Interval (Lower limit-Upper limit)- Frequency\n",
    "#Histogram identifies skewness, kurtosis and outliers\n",
    "\n",
    "\n",
    "# Boxplot or box & Whisker plot is based on quartiles. for example\n",
    "# Boxplot Q1,Q2,Q3 and inter quartile range (Q3-Q1) is required \n",
    "# Boxplot identifies  outliers. Outliers are extreme values that \n",
    "# fall outside normal data range. Outliers determine using below formulae.\n",
    "# Minimum side -Q1 - 1.5 X IQR\n",
    "# Maximum side -Q3 + 1.5 X IQR\n",
    "\n",
    "# Density Curve or Kernel Density Curve - Based on standard normal\n",
    "#  Distribution Scores, Line plot of normal Distributions score is\n",
    "# Density Curve. Identifies skewness and kurtosis\n"
   ]
  },
  {
   "cell_type": "code",
   "execution_count": 84,
   "id": "851b0e53",
   "metadata": {},
   "outputs": [
    {
     "data": {
      "text/plain": [
       "<Axes: ylabel='Frequency'>"
      ]
     },
     "execution_count": 84,
     "metadata": {},
     "output_type": "execute_result"
    },
    {
     "data": {
      "image/png": "[encoded data removed]",
      "text/plain": [
       "<Figure size 640x480 with 1 Axes>"
      ]
     },
     "metadata": {},
     "output_type": "display_data"
    }
   ],
   "source": [
    "carsales.Price.plot(kind='hist') #Histogram-Positive Skewness and positive kurtosis "
   ]
  },
  {
   "cell_type": "code",
   "execution_count": 85,
   "id": "fa7e8e06",
   "metadata": {},
   "outputs": [
    {
     "data": {
      "text/plain": [
       "<Axes: >"
      ]
     },
     "execution_count": 85,
     "metadata": {},
     "output_type": "execute_result"
    },
    {
     "data": {
      "image/png": "[encoded data removed]",
      "text/plain": [
       "<Figure size 640x480 with 1 Axes>"
      ]
     },
     "metadata": {},
     "output_type": "display_data"
    }
   ],
   "source": [
    "carsales.Price.plot(kind='box',vert=False) # Boxplot - Outliers on maximum side and positive skewness"
   ]
  },
  {
   "cell_type": "code",
   "execution_count": 86,
   "id": "5fbb62eb",
   "metadata": {},
   "outputs": [
    {
     "data": {
      "text/plain": [
       "<Axes: ylabel='Density'>"
      ]
     },
     "execution_count": 86,
     "metadata": {},
     "output_type": "execute_result"
    },
    {
     "data": {
      "image/png": "[encoded data removed]",
      "text/plain": [
       "<Figure size 640x480 with 1 Axes>"
      ]
     },
     "metadata": {},
     "output_type": "display_data"
    }
   ],
   "source": [
    "carsales.Price.plot(kind='density') # Density Curve , positive skewness and kurtosis"
   ]
  },
  {
   "cell_type": "code",
   "execution_count": 87,
   "id": "9829a940",
   "metadata": {},
   "outputs": [],
   "source": [
    "# Seaborn is as visualization library - Sublibrary of matplotlib\n",
    "import seaborn as sns"
   ]
  },
  {
   "cell_type": "code",
   "execution_count": 88,
   "id": "62d7bcc1",
   "metadata": {},
   "outputs": [],
   "source": [
    "import warnings\n",
    "warnings.filterwarnings(\"ignore\")"
   ]
  },
  {
   "cell_type": "code",
   "execution_count": 89,
   "id": "79ab514f",
   "metadata": {},
   "outputs": [
    {
     "data": {
      "image/png": "[encoded data removed]",
      "text/plain": [
       "<Figure size 640x480 with 3 Axes>"
      ]
     },
     "metadata": {},
     "output_type": "display_data"
    }
   ],
   "source": [
    "fig,ax=plt.subplots(3,1) # Break Plot window into 3 rows & 1 column\n",
    "sns.histplot(carsales.Price,ax=ax[0]) # Histogram\n",
    "sns.boxplot(carsales.Price,ax=ax[1],orient=\"h\") # Boxplot - Horizontal\n",
    "sns.kdeplot(carsales.Price,ax=ax[2])# density curve\n",
    "plt.show()\n"
   ]
  },
  {
   "cell_type": "code",
   "execution_count": 90,
   "id": "b58c002c",
   "metadata": {},
   "outputs": [
    {
     "data": {
      "image/png": "[encoded data removed]",
      "text/plain": [
       "<Figure size 640x480 with 3 Axes>"
      ]
     },
     "metadata": {},
     "output_type": "display_data"
    }
   ],
   "source": [
    "fig,ax=plt.subplots(3,1) # Break Plot window into 3 rows & 1 column\n",
    "sns.histplot(carsales.Age,ax=ax[0]) # Histogram\n",
    "sns.boxplot(carsales.Age,ax=ax[1],orient=\"h\") # Boxplot - Horizontal\n",
    "sns.kdeplot(carsales.Age,ax=ax[2])# density curve\n",
    "plt.show()"
   ]
  },
  {
   "cell_type": "code",
   "execution_count": 91,
   "id": "7104cda6",
   "metadata": {},
   "outputs": [
    {
     "data": {
      "image/png": "[encoded data removed]",
      "text/plain": [
       "<Figure size 640x480 with 3 Axes>"
      ]
     },
     "metadata": {},
     "output_type": "display_data"
    }
   ],
   "source": [
    "fig,ax=plt.subplots(3,1) # Break Plot window into 3 rows & 1 column\n",
    "sns.histplot(carsales.KM,ax=ax[0]) # Histogram\n",
    "sns.boxplot(carsales.KM,ax=ax[1],orient=\"h\") # Boxplot - Horizontal\n",
    "sns.kdeplot(carsales.KM,ax=ax[2])# density curve\n",
    "plt.show()"
   ]
  },
  {
   "cell_type": "code",
   "execution_count": 92,
   "id": "a5184beb",
   "metadata": {},
   "outputs": [],
   "source": [
    "# Descriptive stastics - Non Numeric Data or object Data\n",
    "# 1) Frequency Counts 2) Cross Tabulation\n",
    "\n",
    "# 1)Frequency Counts -Howmany times the Level /class/group counted\n",
    "# 2)cross Tabulation frequency count of 2 Non Numeric Variables"
   ]
  },
  {
   "cell_type": "code",
   "execution_count": 93,
   "id": "e17269e4",
   "metadata": {},
   "outputs": [
    {
     "data": {
      "text/plain": [
       "FuelType\n",
       "Petrol    1264\n",
       "Diesel     155\n",
       "CNG         17\n",
       "Name: count, dtype: int64"
      ]
     },
     "execution_count": 93,
     "metadata": {},
     "output_type": "execute_result"
    }
   ],
   "source": [
    "#dfname.columnname.value_counts() - Frequency Counts\n",
    "carsales.FuelType.value_counts()"
   ]
  },
  {
   "cell_type": "code",
   "execution_count": 94,
   "id": "3a5842e2",
   "metadata": {},
   "outputs": [
    {
     "data": {
      "text/plain": [
       "Automatic\n",
       "0    1356\n",
       "1      80\n",
       "Name: count, dtype: int64"
      ]
     },
     "execution_count": 94,
     "metadata": {},
     "output_type": "execute_result"
    }
   ],
   "source": [
    "carsales.Automatic.value_counts()"
   ]
  },
  {
   "cell_type": "code",
   "execution_count": 95,
   "id": "b15b6a9c",
   "metadata": {},
   "outputs": [
    {
     "data": {
      "text/plain": [
       "MetColor\n",
       "1    969\n",
       "0    467\n",
       "Name: count, dtype: int64"
      ]
     },
     "execution_count": 95,
     "metadata": {},
     "output_type": "execute_result"
    }
   ],
   "source": [
    "carsales.MetColor.value_counts()"
   ]
  },
  {
   "cell_type": "code",
   "execution_count": 96,
   "id": "65f2a283",
   "metadata": {},
   "outputs": [
    {
     "data": {
      "text/html": [
       "<div>\n",
       "<style scoped>\n",
       "    .dataframe tbody tr th:only-of-type {\n",
       "        vertical-align: middle;\n",
       "    }\n",
       "\n",
       "    .dataframe tbody tr th {\n",
       "        vertical-align: top;\n",
       "    }\n",
       "\n",
       "    .dataframe thead th {\n",
       "        text-align: right;\n",
       "    }\n",
       "</style>\n",
       "<table border=\"1\" class=\"dataframe\">\n",
       "  <thead>\n",
       "    <tr style=\"text-align: right;\">\n",
       "      <th>FuelType</th>\n",
       "      <th>CNG</th>\n",
       "      <th>Diesel</th>\n",
       "      <th>Petrol</th>\n",
       "    </tr>\n",
       "    <tr>\n",
       "      <th>Automatic</th>\n",
       "      <th></th>\n",
       "      <th></th>\n",
       "      <th></th>\n",
       "    </tr>\n",
       "  </thead>\n",
       "  <tbody>\n",
       "    <tr>\n",
       "      <th>0</th>\n",
       "      <td>16</td>\n",
       "      <td>155</td>\n",
       "      <td>1185</td>\n",
       "    </tr>\n",
       "    <tr>\n",
       "      <th>1</th>\n",
       "      <td>1</td>\n",
       "      <td>0</td>\n",
       "      <td>79</td>\n",
       "    </tr>\n",
       "  </tbody>\n",
       "</table>\n",
       "</div>"
      ],
      "text/plain": [
       "FuelType   CNG  Diesel  Petrol\n",
       "Automatic                     \n",
       "0           16     155    1185\n",
       "1            1       0      79"
      ]
     },
     "execution_count": 96,
     "metadata": {},
     "output_type": "execute_result"
    }
   ],
   "source": [
    "#  Cross Tabulation - pd.crosstab(dfname.colname1,dfname.colname2)\n",
    "\n",
    " # Cross Tabulation of FuelType and automatic\n",
    "pd.crosstab(carsales.Automatic,carsales.FuelType)"
   ]
  },
  {
   "cell_type": "code",
   "execution_count": 97,
   "id": "14b42b84",
   "metadata": {},
   "outputs": [
    {
     "data": {
      "text/html": [
       "<div>\n",
       "<style scoped>\n",
       "    .dataframe tbody tr th:only-of-type {\n",
       "        vertical-align: middle;\n",
       "    }\n",
       "\n",
       "    .dataframe tbody tr th {\n",
       "        vertical-align: top;\n",
       "    }\n",
       "\n",
       "    .dataframe thead th {\n",
       "        text-align: right;\n",
       "    }\n",
       "</style>\n",
       "<table border=\"1\" class=\"dataframe\">\n",
       "  <thead>\n",
       "    <tr style=\"text-align: right;\">\n",
       "      <th>MetColor</th>\n",
       "      <th>0</th>\n",
       "      <th>1</th>\n",
       "    </tr>\n",
       "    <tr>\n",
       "      <th>Automatic</th>\n",
       "      <th></th>\n",
       "      <th></th>\n",
       "    </tr>\n",
       "  </thead>\n",
       "  <tbody>\n",
       "    <tr>\n",
       "      <th>0</th>\n",
       "      <td>438</td>\n",
       "      <td>918</td>\n",
       "    </tr>\n",
       "    <tr>\n",
       "      <th>1</th>\n",
       "      <td>29</td>\n",
       "      <td>51</td>\n",
       "    </tr>\n",
       "  </tbody>\n",
       "</table>\n",
       "</div>"
      ],
      "text/plain": [
       "MetColor     0    1\n",
       "Automatic          \n",
       "0          438  918\n",
       "1           29   51"
      ]
     },
     "execution_count": 97,
     "metadata": {},
     "output_type": "execute_result"
    }
   ],
   "source": [
    "pd.crosstab(carsales.Automatic,carsales.MetColor)"
   ]
  },
  {
   "cell_type": "code",
   "execution_count": 98,
   "id": "e86c043f",
   "metadata": {},
   "outputs": [],
   "source": [
    "# Exploratory Data Analysis - DAta Aggregation\n",
    "# Aggregating Data based on conditions\n",
    "# groupby() Function is used\n",
    "\n",
    "# dfname.columnname.groupby(dgname.columnname).stastisticalfunction()\n",
    "\n",
    "#Left side of groupby is Numerical Variable\n",
    "#right side of groupby within () is categorial Variable\n",
    "# Stastical Function like mean(), Median(),std(),skew(),min(, etc. \n",
    "# Must be specified."
   ]
  },
  {
   "cell_type": "code",
   "execution_count": 100,
   "id": "a311b074",
   "metadata": {},
   "outputs": [
    {
     "data": {
      "text/plain": [
       "FuelType\n",
       "CNG        9421.176471\n",
       "Diesel    11294.554839\n",
       "Petrol    10679.310127\n",
       "Name: Price, dtype: float64"
      ]
     },
     "execution_count": 100,
     "metadata": {},
     "output_type": "execute_result"
    }
   ],
   "source": [
    "# What is the ave price of different FuelType cars?\n",
    "\n",
    "carsales.Price.groupby(carsales.FuelType).mean()"
   ]
  },
  {
   "cell_type": "code",
   "execution_count": 101,
   "id": "797c2d0d",
   "metadata": {},
   "outputs": [
    {
     "data": {
      "text/plain": [
       "FuelType\n",
       "CNG       56.352941\n",
       "Diesel    50.722581\n",
       "Petrol    56.582278\n",
       "Name: Age, dtype: float64"
      ]
     },
     "execution_count": 101,
     "metadata": {},
     "output_type": "execute_result"
    }
   ],
   "source": [
    "# What is the ave price of different FuelType cars?\n",
    "carsales.Age.groupby(carsales.FuelType).mean()"
   ]
  },
  {
   "cell_type": "code",
   "execution_count": 106,
   "id": "91b2b817",
   "metadata": {},
   "outputs": [
    {
     "data": {
      "text/plain": [
       "Index(['Unnamed: 0', 'Price', 'Age', 'KM', 'FuelType', 'HP', 'MetColor',\n",
       "       'Automatic', 'CC', 'Doors', 'Weight', 'AutoType', 'MetColorType'],\n",
       "      dtype='object')"
      ]
     },
     "execution_count": 106,
     "metadata": {},
     "output_type": "execute_result"
    }
   ],
   "source": [
    "carsales.columns\n"
   ]
  },
  {
   "cell_type": "code",
   "execution_count": 103,
   "id": "062fbda0",
   "metadata": {},
   "outputs": [
    {
     "data": {
      "text/plain": [
       "Automatic\n",
       "0    69278.695428\n",
       "1    55898.125000\n",
       "Name: KM, dtype: float64"
      ]
     },
     "execution_count": 103,
     "metadata": {},
     "output_type": "execute_result"
    }
   ],
   "source": [
    "# What is the ave KM of different Automatic cars?\n",
    "carsales.KM.groupby(carsales.Automatic).mean()"
   ]
  },
  {
   "cell_type": "code",
   "execution_count": 104,
   "id": "3d1844f8",
   "metadata": {},
   "outputs": [
    {
     "data": {
      "text/plain": [
       "Automatic\n",
       "0    9900.0\n",
       "1    9950.0\n",
       "Name: Price, dtype: float64"
      ]
     },
     "execution_count": 104,
     "metadata": {},
     "output_type": "execute_result"
    }
   ],
   "source": [
    "# What is the Median Price of different Automatic cars?\n",
    "carsales.Price.groupby(carsales.Automatic).median()"
   ]
  },
  {
   "cell_type": "code",
   "execution_count": 105,
   "id": "30dd0d8c",
   "metadata": {},
   "outputs": [
    {
     "data": {
      "text/plain": [
       "Automatic\n",
       "0    55.803835\n",
       "1    58.375000\n",
       "Name: Age, dtype: float64"
      ]
     },
     "execution_count": 105,
     "metadata": {},
     "output_type": "execute_result"
    }
   ],
   "source": [
    "# What is the ave Age of different Automatic cars?\n",
    "carsales.Age.groupby(carsales.Automatic).mean()"
   ]
  },
  {
   "cell_type": "code",
   "execution_count": null,
   "id": "045d1a1b",
   "metadata": {},
   "outputs": [],
   "source": []
  }
 ],
 "metadata": {
  "kernelspec": {
   "display_name": "Python 3 (ipykernel)",
   "language": "python",
   "name": "python3"
  },
  "language_info": {
   "codemirror_mode": {
    "name": "ipython",
    "version": 3
   },
   "file_extension": ".py",
   "mimetype": "text/x-python",
   "name": "python",
   "nbconvert_exporter": "python",
   "pygments_lexer": "ipython3",
   "version": "3.11.7"
  }
 },
 "nbformat": 4,
 "nbformat_minor": 5
}
